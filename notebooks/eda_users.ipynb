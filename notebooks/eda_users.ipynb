{
 "cells": [
  {
   "cell_type": "markdown",
   "metadata": {},
   "source": [
    "# DESAFÍO: ANÁLISIS EXPLORATORIO DE DATOS DE LOS USUARIOS LOGUEADOS\n",
    "\n",
    "En este cuaderno, realizaremos un análisis exploratorio de los datos relacionados con los usuarios logueados en nuestra aplicación. Nuestra principal meta es extraer información relevante para abordar aspectos cruciales con el equipo de negocios. A través de las conclusiones obtenidas, podremos profundizar en el perfil de nuestro público objetivo y evaluar la recepción que está teniendo nuestra aplicación entre el público.\n",
    "\n",
    "#### Los datos en el DataFrame muestran información detallada sobre los usuarios logueados:\n",
    "\n",
    "-La columna \"fecha\" contiene la fecha de logueo de cada usuario.\n",
    "-La columna \"nombre\" muestra el nombre de cada usuario.\n",
    "-\"cp\" representa el código postal del lugar de residencia del usuario.\n",
    "-\"edad\" indica la fecha de nacimiento de cada usuario.\n",
    "-\"n_hijos_menores\" muestra el número de hijos menores de cada usuario.\n",
    "-\"sexo\" indica el género de cada usuario.\n",
    "-\"email\" es la dirección de correo electrónico de cada usuario.\n",
    "\n",
    "#### Antes de realizar el análisis, es importante abordar ciertas cuestiones de limpieza y consistencia en los datos:\n",
    "\n",
    "    Asegurarnos de que todas las fechas en la columna \"fecha\" estén en un formato consistente.\n",
    "\n",
    "    Calcular la edad real de los usuarios a partir de la fecha de nacimiento y registrarla en la columna \"edad\".\n",
    "\n",
    "    Revisar y normalizar los valores en la columna \"sexo\" para que sean consistentes en mayúsculas o minúsculas.\n",
    "\n",
    "    Eliminar o tratar duplicados en los nombres de usuarios para garantizar la unicidad.\n",
    "\n",
    "    Verificar que todas las direcciones de correo electrónico sean válidas y no haya duplicados.\n",
    "\n",
    "#### Con los datos limpios y listos para el análisis, exploraremos diversas métricas y patrones para obtener insights valiosos:\n",
    "\n",
    "    Comportamiento de inicio de sesión: Analizaremos la frecuencia y el horario de inicio de sesión para identificar momentos de mayor actividad.\n",
    "\n",
    "    Distribución geográfica: Investigaremos la ubicación de nuestros usuarios para conocer las regiones con mayor participación y explorar oportunidades de expansión.\n",
    "\n",
    "    Características demográficas: Examinaremos datos como la edad, el género y la cantidad de hijos menores para entender mejor el perfil de nuestros usuarios.\n",
    "\n",
    "    Retención y abandono: Estudiaremos la frecuencia de inicio de sesión de los usuarios y las tasas de abandono para detectar posibles áreas de mejora.\n",
    "\n",
    "    Interacciones y preferencias: Analizaremos las acciones más comunes de los usuarios dentro de la aplicación y sus preferencias de contenido para mejorar la experiencia del usuario.\n",
    "\n",
    "Con el análisis completo, presentaremos un informe detallado que destacará los hallazgos más relevantes y ofrecerá recomendaciones clave para enriquecer nuestra estrategia comercial. "
   ]
  },
  {
   "cell_type": "code",
   "execution_count": 173,
   "metadata": {},
   "outputs": [],
   "source": [
    "# Importamos las distintas librerias necesarias para el análisis\n",
    "\n",
    "# Tratamiento de datos\n",
    "import numpy as np\n",
    "import pandas as pd\n",
    "import random\n",
    "from faker import Faker\n",
    "from datetime import datetime, timedelta\n",
    "\n",
    "# Rutas\n",
    "import os\n",
    "\n",
    "# Gráficos\n",
    "import matplotlib.pyplot as plt\n",
    "import seaborn as sns\n",
    "import plotly.express as px\n",
    "\n",
    "# Tratamiento de las variables categóricas que se pueden ordenar\n",
    "from sklearn.preprocessing import LabelEncoder\n",
    "\n",
    "# Configuración warnings\n",
    "import warnings\n",
    "warnings.filterwarnings('ignore')"
   ]
  },
  {
   "cell_type": "code",
   "execution_count": 174,
   "metadata": {},
   "outputs": [],
   "source": [
    "# Ruta relativa\n",
    "ruta_csv = \"../data/users_login/users.csv\""
   ]
  },
  {
   "cell_type": "code",
   "execution_count": 175,
   "metadata": {},
   "outputs": [
    {
     "data": {
      "text/html": [
       "<div>\n",
       "<style scoped>\n",
       "    .dataframe tbody tr th:only-of-type {\n",
       "        vertical-align: middle;\n",
       "    }\n",
       "\n",
       "    .dataframe tbody tr th {\n",
       "        vertical-align: top;\n",
       "    }\n",
       "\n",
       "    .dataframe thead th {\n",
       "        text-align: right;\n",
       "    }\n",
       "</style>\n",
       "<table border=\"1\" class=\"dataframe\">\n",
       "  <thead>\n",
       "    <tr style=\"text-align: right;\">\n",
       "      <th></th>\n",
       "      <th>fecha_registro</th>\n",
       "      <th>nombre</th>\n",
       "      <th>user_id</th>\n",
       "      <th>sexo</th>\n",
       "      <th>fecha_nacimiento</th>\n",
       "      <th>cp</th>\n",
       "      <th>n_hijos_menores</th>\n",
       "      <th>email</th>\n",
       "    </tr>\n",
       "  </thead>\n",
       "  <tbody>\n",
       "    <tr>\n",
       "      <th>0</th>\n",
       "      <td>24-04-2023</td>\n",
       "      <td>Lynn Moore</td>\n",
       "      <td>655346</td>\n",
       "      <td>M</td>\n",
       "      <td>27-09-1954</td>\n",
       "      <td>28023</td>\n",
       "      <td>5</td>\n",
       "      <td>thomasgeorge@example.com</td>\n",
       "    </tr>\n",
       "    <tr>\n",
       "      <th>1</th>\n",
       "      <td>02-06-2023</td>\n",
       "      <td>Lisa Valenzuela</td>\n",
       "      <td>279526</td>\n",
       "      <td>H</td>\n",
       "      <td>28-10-1934</td>\n",
       "      <td>28037</td>\n",
       "      <td>2</td>\n",
       "      <td>kbarrera@example.net</td>\n",
       "    </tr>\n",
       "    <tr>\n",
       "      <th>2</th>\n",
       "      <td>20-03-2023</td>\n",
       "      <td>Matthew Marshall</td>\n",
       "      <td>797457</td>\n",
       "      <td>H</td>\n",
       "      <td>17-09-1946</td>\n",
       "      <td>28035</td>\n",
       "      <td>2</td>\n",
       "      <td>joshuawagner@example.com</td>\n",
       "    </tr>\n",
       "    <tr>\n",
       "      <th>3</th>\n",
       "      <td>03-02-2023</td>\n",
       "      <td>Ryan Rogers</td>\n",
       "      <td>803906</td>\n",
       "      <td>H</td>\n",
       "      <td>13-06-1936</td>\n",
       "      <td>28026</td>\n",
       "      <td>2</td>\n",
       "      <td>wweber@example.net</td>\n",
       "    </tr>\n",
       "    <tr>\n",
       "      <th>4</th>\n",
       "      <td>25-01-2023</td>\n",
       "      <td>Destiny Shaffer</td>\n",
       "      <td>314182</td>\n",
       "      <td>H</td>\n",
       "      <td>27-12-1961</td>\n",
       "      <td>28024</td>\n",
       "      <td>0</td>\n",
       "      <td>ericksonsandra@example.com</td>\n",
       "    </tr>\n",
       "    <tr>\n",
       "      <th>...</th>\n",
       "      <td>...</td>\n",
       "      <td>...</td>\n",
       "      <td>...</td>\n",
       "      <td>...</td>\n",
       "      <td>...</td>\n",
       "      <td>...</td>\n",
       "      <td>...</td>\n",
       "      <td>...</td>\n",
       "    </tr>\n",
       "    <tr>\n",
       "      <th>495</th>\n",
       "      <td>01-03-2023</td>\n",
       "      <td>Hannah Luna</td>\n",
       "      <td>204336</td>\n",
       "      <td>H</td>\n",
       "      <td>14-08-2002</td>\n",
       "      <td>28083</td>\n",
       "      <td>4</td>\n",
       "      <td>romanmargaret@example.com</td>\n",
       "    </tr>\n",
       "    <tr>\n",
       "      <th>496</th>\n",
       "      <td>26-02-2023</td>\n",
       "      <td>Christopher Powell</td>\n",
       "      <td>802317</td>\n",
       "      <td>M</td>\n",
       "      <td>12-08-1930</td>\n",
       "      <td>28054</td>\n",
       "      <td>1</td>\n",
       "      <td>veronicajohnson@example.com</td>\n",
       "    </tr>\n",
       "    <tr>\n",
       "      <th>497</th>\n",
       "      <td>02-02-2023</td>\n",
       "      <td>Sara Morse</td>\n",
       "      <td>549513</td>\n",
       "      <td>M</td>\n",
       "      <td>22-07-1924</td>\n",
       "      <td>28053</td>\n",
       "      <td>2</td>\n",
       "      <td>liubrenda@example.net</td>\n",
       "    </tr>\n",
       "    <tr>\n",
       "      <th>498</th>\n",
       "      <td>04-02-2023</td>\n",
       "      <td>Dr. Peter Curry</td>\n",
       "      <td>292753</td>\n",
       "      <td>M</td>\n",
       "      <td>16-05-1942</td>\n",
       "      <td>28026</td>\n",
       "      <td>4</td>\n",
       "      <td>orivera@example.net</td>\n",
       "    </tr>\n",
       "    <tr>\n",
       "      <th>499</th>\n",
       "      <td>12-03-2023</td>\n",
       "      <td>Dwayne Gordon</td>\n",
       "      <td>103476</td>\n",
       "      <td>M</td>\n",
       "      <td>01-02-1995</td>\n",
       "      <td>28071</td>\n",
       "      <td>5</td>\n",
       "      <td>steven49@example.net</td>\n",
       "    </tr>\n",
       "  </tbody>\n",
       "</table>\n",
       "<p>500 rows × 8 columns</p>\n",
       "</div>"
      ],
      "text/plain": [
       "    fecha_registro              nombre  user_id sexo fecha_nacimiento     cp   \n",
       "0       24-04-2023          Lynn Moore   655346    M       27-09-1954  28023  \\\n",
       "1       02-06-2023     Lisa Valenzuela   279526    H       28-10-1934  28037   \n",
       "2       20-03-2023    Matthew Marshall   797457    H       17-09-1946  28035   \n",
       "3       03-02-2023         Ryan Rogers   803906    H       13-06-1936  28026   \n",
       "4       25-01-2023     Destiny Shaffer   314182    H       27-12-1961  28024   \n",
       "..             ...                 ...      ...  ...              ...    ...   \n",
       "495     01-03-2023         Hannah Luna   204336    H       14-08-2002  28083   \n",
       "496     26-02-2023  Christopher Powell   802317    M       12-08-1930  28054   \n",
       "497     02-02-2023          Sara Morse   549513    M       22-07-1924  28053   \n",
       "498     04-02-2023     Dr. Peter Curry   292753    M       16-05-1942  28026   \n",
       "499     12-03-2023       Dwayne Gordon   103476    M       01-02-1995  28071   \n",
       "\n",
       "     n_hijos_menores                        email  \n",
       "0                  5     thomasgeorge@example.com  \n",
       "1                  2         kbarrera@example.net  \n",
       "2                  2     joshuawagner@example.com  \n",
       "3                  2           wweber@example.net  \n",
       "4                  0   ericksonsandra@example.com  \n",
       "..               ...                          ...  \n",
       "495                4    romanmargaret@example.com  \n",
       "496                1  veronicajohnson@example.com  \n",
       "497                2        liubrenda@example.net  \n",
       "498                4          orivera@example.net  \n",
       "499                5         steven49@example.net  \n",
       "\n",
       "[500 rows x 8 columns]"
      ]
     },
     "execution_count": 175,
     "metadata": {},
     "output_type": "execute_result"
    }
   ],
   "source": [
    "# Leemos el DataFrame\n",
    "df = pd.read_csv(ruta_csv)\n",
    "df"
   ]
  },
  {
   "cell_type": "code",
   "execution_count": 176,
   "metadata": {},
   "outputs": [
    {
     "data": {
      "text/plain": [
       "fecha_registro      object\n",
       "nombre              object\n",
       "user_id              int64\n",
       "sexo                object\n",
       "fecha_nacimiento    object\n",
       "cp                   int64\n",
       "n_hijos_menores      int64\n",
       "email               object\n",
       "dtype: object"
      ]
     },
     "execution_count": 176,
     "metadata": {},
     "output_type": "execute_result"
    }
   ],
   "source": [
    "df.dtypes"
   ]
  },
  {
   "cell_type": "code",
   "execution_count": 177,
   "metadata": {},
   "outputs": [
    {
     "name": "stdout",
     "output_type": "stream",
     "text": [
      "<class 'pandas.core.frame.DataFrame'>\n",
      "RangeIndex: 500 entries, 0 to 499\n",
      "Data columns (total 8 columns):\n",
      " #   Column            Non-Null Count  Dtype \n",
      "---  ------            --------------  ----- \n",
      " 0   fecha_registro    500 non-null    object\n",
      " 1   nombre            500 non-null    object\n",
      " 2   user_id           500 non-null    int64 \n",
      " 3   sexo              500 non-null    object\n",
      " 4   fecha_nacimiento  500 non-null    object\n",
      " 5   cp                500 non-null    int64 \n",
      " 6   n_hijos_menores   500 non-null    int64 \n",
      " 7   email             500 non-null    object\n",
      "dtypes: int64(3), object(5)\n",
      "memory usage: 31.4+ KB\n"
     ]
    }
   ],
   "source": [
    "# Observamos que la cantidad de datos es bastante grande con 319755 filas y 18 columnas\n",
    "# No nos encontramos con valores nulos\n",
    "# Tenemos valores de tipo objeto y float\n",
    "df.info()"
   ]
  },
  {
   "cell_type": "code",
   "execution_count": 178,
   "metadata": {},
   "outputs": [
    {
     "data": {
      "text/plain": [
       "fecha_registro      0\n",
       "nombre              0\n",
       "user_id             0\n",
       "sexo                0\n",
       "fecha_nacimiento    0\n",
       "cp                  0\n",
       "n_hijos_menores     0\n",
       "email               0\n",
       "dtype: int64"
      ]
     },
     "execution_count": 178,
     "metadata": {},
     "output_type": "execute_result"
    }
   ],
   "source": [
    "# Nos asecuramos de que no hay valores nulos en ninguna columna\n",
    "df.isnull().sum()"
   ]
  },
  {
   "cell_type": "markdown",
   "metadata": {},
   "source": [
    "### 1. Fecha_registro"
   ]
  },
  {
   "cell_type": "code",
   "execution_count": 179,
   "metadata": {},
   "outputs": [],
   "source": [
    "# Convertimos la columna 'fecha_registro' a tipo datetime\n",
    "df['fecha_registro'] = pd.to_datetime(df['fecha_registro'], format='%d-%m-%Y')"
   ]
  },
  {
   "cell_type": "markdown",
   "metadata": {},
   "source": [
    "### 2. Sexo"
   ]
  },
  {
   "cell_type": "code",
   "execution_count": 180,
   "metadata": {},
   "outputs": [],
   "source": [
    "# De la columna de \"Sexo\"\n",
    "df[\"sexo\"][df[\"sexo\"] == \"M\"] = 0 # mujer\n",
    "df[\"sexo\"][df[\"sexo\"] == \"H\"] = 1 # hombre\n",
    "\n",
    "# Cambio de tipo objet a tipo int\n",
    "df[\"sexo\"] = df[\"sexo\"].astype(int)"
   ]
  },
  {
   "cell_type": "markdown",
   "metadata": {},
   "source": [
    "### 3. Fecha_nacimiento"
   ]
  },
  {
   "cell_type": "code",
   "execution_count": 181,
   "metadata": {},
   "outputs": [],
   "source": [
    "# Convertimos la columna 'fecha_nacimiento' a tipo datetime\n",
    "df['fecha_nacimiento'] = pd.to_datetime(df['fecha_nacimiento'], format='%d-%m-%Y')"
   ]
  },
  {
   "cell_type": "code",
   "execution_count": 182,
   "metadata": {},
   "outputs": [
    {
     "data": {
      "text/plain": [
       "Timestamp('2023-07-28 12:00:31.303946')"
      ]
     },
     "execution_count": 182,
     "metadata": {},
     "output_type": "execute_result"
    }
   ],
   "source": [
    "# Calculamos la edad que tendrán hoy los usuarios\n",
    "hoy = pd.to_datetime('today')\n",
    "hoy"
   ]
  },
  {
   "cell_type": "code",
   "execution_count": 183,
   "metadata": {},
   "outputs": [
    {
     "data": {
      "text/plain": [
       "0      69\n",
       "1      89\n",
       "2      77\n",
       "3      87\n",
       "4      62\n",
       "       ..\n",
       "495    21\n",
       "496    93\n",
       "497    99\n",
       "498    81\n",
       "499    28\n",
       "Name: edad, Length: 500, dtype: int32"
      ]
     },
     "execution_count": 183,
     "metadata": {},
     "output_type": "execute_result"
    }
   ],
   "source": [
    "df['edad'] = hoy.year - df['fecha_nacimiento'].dt.year\n",
    "df[\"edad\"]"
   ]
  },
  {
   "cell_type": "code",
   "execution_count": 184,
   "metadata": {},
   "outputs": [],
   "source": [
    "# Eliminación de la columna 'fecha_nacimiento', ya que ahora tenemos la edad en su lugar\n",
    "df.drop([\"fecha_nacimiento\", \"nombre\", \"email\"], axis=1, inplace=True)"
   ]
  },
  {
   "cell_type": "code",
   "execution_count": 185,
   "metadata": {},
   "outputs": [
    {
     "data": {
      "text/html": [
       "<div>\n",
       "<style scoped>\n",
       "    .dataframe tbody tr th:only-of-type {\n",
       "        vertical-align: middle;\n",
       "    }\n",
       "\n",
       "    .dataframe tbody tr th {\n",
       "        vertical-align: top;\n",
       "    }\n",
       "\n",
       "    .dataframe thead th {\n",
       "        text-align: right;\n",
       "    }\n",
       "</style>\n",
       "<table border=\"1\" class=\"dataframe\">\n",
       "  <thead>\n",
       "    <tr style=\"text-align: right;\">\n",
       "      <th></th>\n",
       "      <th>fecha_registro</th>\n",
       "      <th>user_id</th>\n",
       "      <th>sexo</th>\n",
       "      <th>cp</th>\n",
       "      <th>n_hijos_menores</th>\n",
       "      <th>edad</th>\n",
       "    </tr>\n",
       "  </thead>\n",
       "  <tbody>\n",
       "    <tr>\n",
       "      <th>0</th>\n",
       "      <td>2023-04-24</td>\n",
       "      <td>655346</td>\n",
       "      <td>0</td>\n",
       "      <td>28023</td>\n",
       "      <td>5</td>\n",
       "      <td>69</td>\n",
       "    </tr>\n",
       "    <tr>\n",
       "      <th>1</th>\n",
       "      <td>2023-06-02</td>\n",
       "      <td>279526</td>\n",
       "      <td>1</td>\n",
       "      <td>28037</td>\n",
       "      <td>2</td>\n",
       "      <td>89</td>\n",
       "    </tr>\n",
       "    <tr>\n",
       "      <th>2</th>\n",
       "      <td>2023-03-20</td>\n",
       "      <td>797457</td>\n",
       "      <td>1</td>\n",
       "      <td>28035</td>\n",
       "      <td>2</td>\n",
       "      <td>77</td>\n",
       "    </tr>\n",
       "    <tr>\n",
       "      <th>3</th>\n",
       "      <td>2023-02-03</td>\n",
       "      <td>803906</td>\n",
       "      <td>1</td>\n",
       "      <td>28026</td>\n",
       "      <td>2</td>\n",
       "      <td>87</td>\n",
       "    </tr>\n",
       "    <tr>\n",
       "      <th>4</th>\n",
       "      <td>2023-01-25</td>\n",
       "      <td>314182</td>\n",
       "      <td>1</td>\n",
       "      <td>28024</td>\n",
       "      <td>0</td>\n",
       "      <td>62</td>\n",
       "    </tr>\n",
       "    <tr>\n",
       "      <th>...</th>\n",
       "      <td>...</td>\n",
       "      <td>...</td>\n",
       "      <td>...</td>\n",
       "      <td>...</td>\n",
       "      <td>...</td>\n",
       "      <td>...</td>\n",
       "    </tr>\n",
       "    <tr>\n",
       "      <th>495</th>\n",
       "      <td>2023-03-01</td>\n",
       "      <td>204336</td>\n",
       "      <td>1</td>\n",
       "      <td>28083</td>\n",
       "      <td>4</td>\n",
       "      <td>21</td>\n",
       "    </tr>\n",
       "    <tr>\n",
       "      <th>496</th>\n",
       "      <td>2023-02-26</td>\n",
       "      <td>802317</td>\n",
       "      <td>0</td>\n",
       "      <td>28054</td>\n",
       "      <td>1</td>\n",
       "      <td>93</td>\n",
       "    </tr>\n",
       "    <tr>\n",
       "      <th>497</th>\n",
       "      <td>2023-02-02</td>\n",
       "      <td>549513</td>\n",
       "      <td>0</td>\n",
       "      <td>28053</td>\n",
       "      <td>2</td>\n",
       "      <td>99</td>\n",
       "    </tr>\n",
       "    <tr>\n",
       "      <th>498</th>\n",
       "      <td>2023-02-04</td>\n",
       "      <td>292753</td>\n",
       "      <td>0</td>\n",
       "      <td>28026</td>\n",
       "      <td>4</td>\n",
       "      <td>81</td>\n",
       "    </tr>\n",
       "    <tr>\n",
       "      <th>499</th>\n",
       "      <td>2023-03-12</td>\n",
       "      <td>103476</td>\n",
       "      <td>0</td>\n",
       "      <td>28071</td>\n",
       "      <td>5</td>\n",
       "      <td>28</td>\n",
       "    </tr>\n",
       "  </tbody>\n",
       "</table>\n",
       "<p>500 rows × 6 columns</p>\n",
       "</div>"
      ],
      "text/plain": [
       "    fecha_registro  user_id  sexo     cp  n_hijos_menores  edad\n",
       "0       2023-04-24   655346     0  28023                5    69\n",
       "1       2023-06-02   279526     1  28037                2    89\n",
       "2       2023-03-20   797457     1  28035                2    77\n",
       "3       2023-02-03   803906     1  28026                2    87\n",
       "4       2023-01-25   314182     1  28024                0    62\n",
       "..             ...      ...   ...    ...              ...   ...\n",
       "495     2023-03-01   204336     1  28083                4    21\n",
       "496     2023-02-26   802317     0  28054                1    93\n",
       "497     2023-02-02   549513     0  28053                2    99\n",
       "498     2023-02-04   292753     0  28026                4    81\n",
       "499     2023-03-12   103476     0  28071                5    28\n",
       "\n",
       "[500 rows x 6 columns]"
      ]
     },
     "execution_count": 185,
     "metadata": {},
     "output_type": "execute_result"
    }
   ],
   "source": [
    "df"
   ]
  },
  {
   "cell_type": "code",
   "execution_count": 186,
   "metadata": {},
   "outputs": [
    {
     "data": {
      "text/plain": [
       "fecha_registro     datetime64[ns]\n",
       "user_id                     int64\n",
       "sexo                        int32\n",
       "cp                          int64\n",
       "n_hijos_menores             int64\n",
       "edad                        int32\n",
       "dtype: object"
      ]
     },
     "execution_count": 186,
     "metadata": {},
     "output_type": "execute_result"
    }
   ],
   "source": [
    "df.dtypes"
   ]
  },
  {
   "cell_type": "code",
   "execution_count": 187,
   "metadata": {},
   "outputs": [
    {
     "data": {
      "text/html": [
       "<div>\n",
       "<style scoped>\n",
       "    .dataframe tbody tr th:only-of-type {\n",
       "        vertical-align: middle;\n",
       "    }\n",
       "\n",
       "    .dataframe tbody tr th {\n",
       "        vertical-align: top;\n",
       "    }\n",
       "\n",
       "    .dataframe thead th {\n",
       "        text-align: right;\n",
       "    }\n",
       "</style>\n",
       "<table border=\"1\" class=\"dataframe\">\n",
       "  <thead>\n",
       "    <tr style=\"text-align: right;\">\n",
       "      <th></th>\n",
       "      <th>fecha_registro</th>\n",
       "      <th>user_id</th>\n",
       "      <th>sexo</th>\n",
       "      <th>cp</th>\n",
       "      <th>n_hijos_menores</th>\n",
       "      <th>edad</th>\n",
       "    </tr>\n",
       "  </thead>\n",
       "  <tbody>\n",
       "    <tr>\n",
       "      <th>count</th>\n",
       "      <td>500</td>\n",
       "      <td>500.00000</td>\n",
       "      <td>500.000000</td>\n",
       "      <td>500.000000</td>\n",
       "      <td>500.000000</td>\n",
       "      <td>500.000000</td>\n",
       "    </tr>\n",
       "    <tr>\n",
       "      <th>mean</th>\n",
       "      <td>2023-04-18 12:11:31.200000</td>\n",
       "      <td>551912.60800</td>\n",
       "      <td>0.474000</td>\n",
       "      <td>28034.784000</td>\n",
       "      <td>2.396000</td>\n",
       "      <td>58.988000</td>\n",
       "    </tr>\n",
       "    <tr>\n",
       "      <th>min</th>\n",
       "      <td>2023-01-01 00:00:00</td>\n",
       "      <td>103476.00000</td>\n",
       "      <td>0.000000</td>\n",
       "      <td>28001.000000</td>\n",
       "      <td>0.000000</td>\n",
       "      <td>18.000000</td>\n",
       "    </tr>\n",
       "    <tr>\n",
       "      <th>25%</th>\n",
       "      <td>2023-02-26 18:00:00</td>\n",
       "      <td>305890.75000</td>\n",
       "      <td>0.000000</td>\n",
       "      <td>28018.000000</td>\n",
       "      <td>1.000000</td>\n",
       "      <td>37.750000</td>\n",
       "    </tr>\n",
       "    <tr>\n",
       "      <th>50%</th>\n",
       "      <td>2023-04-17 12:00:00</td>\n",
       "      <td>554004.50000</td>\n",
       "      <td>0.000000</td>\n",
       "      <td>28031.000000</td>\n",
       "      <td>2.000000</td>\n",
       "      <td>57.000000</td>\n",
       "    </tr>\n",
       "    <tr>\n",
       "      <th>75%</th>\n",
       "      <td>2023-06-14 06:00:00</td>\n",
       "      <td>778429.25000</td>\n",
       "      <td>1.000000</td>\n",
       "      <td>28047.250000</td>\n",
       "      <td>4.000000</td>\n",
       "      <td>81.000000</td>\n",
       "    </tr>\n",
       "    <tr>\n",
       "      <th>max</th>\n",
       "      <td>2023-07-26 00:00:00</td>\n",
       "      <td>997308.00000</td>\n",
       "      <td>1.000000</td>\n",
       "      <td>28087.000000</td>\n",
       "      <td>5.000000</td>\n",
       "      <td>101.000000</td>\n",
       "    </tr>\n",
       "    <tr>\n",
       "      <th>std</th>\n",
       "      <td>NaN</td>\n",
       "      <td>260494.89536</td>\n",
       "      <td>0.499824</td>\n",
       "      <td>22.850594</td>\n",
       "      <td>1.721951</td>\n",
       "      <td>24.407361</td>\n",
       "    </tr>\n",
       "  </tbody>\n",
       "</table>\n",
       "</div>"
      ],
      "text/plain": [
       "                   fecha_registro       user_id        sexo            cp   \n",
       "count                         500     500.00000  500.000000    500.000000  \\\n",
       "mean   2023-04-18 12:11:31.200000  551912.60800    0.474000  28034.784000   \n",
       "min           2023-01-01 00:00:00  103476.00000    0.000000  28001.000000   \n",
       "25%           2023-02-26 18:00:00  305890.75000    0.000000  28018.000000   \n",
       "50%           2023-04-17 12:00:00  554004.50000    0.000000  28031.000000   \n",
       "75%           2023-06-14 06:00:00  778429.25000    1.000000  28047.250000   \n",
       "max           2023-07-26 00:00:00  997308.00000    1.000000  28087.000000   \n",
       "std                           NaN  260494.89536    0.499824     22.850594   \n",
       "\n",
       "       n_hijos_menores        edad  \n",
       "count       500.000000  500.000000  \n",
       "mean          2.396000   58.988000  \n",
       "min           0.000000   18.000000  \n",
       "25%           1.000000   37.750000  \n",
       "50%           2.000000   57.000000  \n",
       "75%           4.000000   81.000000  \n",
       "max           5.000000  101.000000  \n",
       "std           1.721951   24.407361  "
      ]
     },
     "execution_count": 187,
     "metadata": {},
     "output_type": "execute_result"
    }
   ],
   "source": [
    "df.describe()"
   ]
  },
  {
   "cell_type": "code",
   "execution_count": 188,
   "metadata": {},
   "outputs": [
    {
     "name": "stdout",
     "output_type": "stream",
     "text": [
      "sexo sexo\n",
      "0    263\n",
      "1    237\n",
      "Name: count, dtype: int64\n",
      "cp cp\n",
      "28030    15\n",
      "28025    14\n",
      "28040    13\n",
      "28020    13\n",
      "28071    13\n",
      "         ..\n",
      "28013     4\n",
      "28051     4\n",
      "28044     4\n",
      "28012     3\n",
      "28018     3\n",
      "Name: count, Length: 63, dtype: int64\n",
      "n_hijos_menores n_hijos_menores\n",
      "0    95\n",
      "2    89\n",
      "4    82\n",
      "1    82\n",
      "5    77\n",
      "3    75\n",
      "Name: count, dtype: int64\n",
      "edad edad\n",
      "84     13\n",
      "33     12\n",
      "45     12\n",
      "35     11\n",
      "21     11\n",
      "       ..\n",
      "27      2\n",
      "73      2\n",
      "88      2\n",
      "101     1\n",
      "68      1\n",
      "Name: count, Length: 84, dtype: int64\n"
     ]
    }
   ],
   "source": [
    "# Para saber como de balanceados están los datos\n",
    "columns_to_count =[\"sexo\", \"cp\", \"n_hijos_menores\", \"edad\"]\n",
    "for column in columns_to_count:\n",
    "    value_counts = df[column].value_counts()\n",
    "    print(column, value_counts)"
   ]
  },
  {
   "cell_type": "markdown",
   "metadata": {},
   "source": [
    "#### VISUALIZACIONES POR \"FECHA_REGISTRO\""
   ]
  },
  {
   "cell_type": "code",
   "execution_count": 189,
   "metadata": {},
   "outputs": [
    {
     "data": {
      "text/html": [
       "<div>\n",
       "<style scoped>\n",
       "    .dataframe tbody tr th:only-of-type {\n",
       "        vertical-align: middle;\n",
       "    }\n",
       "\n",
       "    .dataframe tbody tr th {\n",
       "        vertical-align: top;\n",
       "    }\n",
       "\n",
       "    .dataframe thead th {\n",
       "        text-align: right;\n",
       "    }\n",
       "</style>\n",
       "<table border=\"1\" class=\"dataframe\">\n",
       "  <thead>\n",
       "    <tr style=\"text-align: right;\">\n",
       "      <th></th>\n",
       "      <th>fecha_registro</th>\n",
       "      <th>user_id</th>\n",
       "      <th>sexo</th>\n",
       "      <th>cp</th>\n",
       "      <th>n_hijos_menores</th>\n",
       "      <th>edad</th>\n",
       "    </tr>\n",
       "  </thead>\n",
       "  <tbody>\n",
       "    <tr>\n",
       "      <th>0</th>\n",
       "      <td>2023-04-24</td>\n",
       "      <td>655346</td>\n",
       "      <td>0</td>\n",
       "      <td>28023</td>\n",
       "      <td>5</td>\n",
       "      <td>69</td>\n",
       "    </tr>\n",
       "    <tr>\n",
       "      <th>1</th>\n",
       "      <td>2023-06-02</td>\n",
       "      <td>279526</td>\n",
       "      <td>1</td>\n",
       "      <td>28037</td>\n",
       "      <td>2</td>\n",
       "      <td>89</td>\n",
       "    </tr>\n",
       "    <tr>\n",
       "      <th>2</th>\n",
       "      <td>2023-03-20</td>\n",
       "      <td>797457</td>\n",
       "      <td>1</td>\n",
       "      <td>28035</td>\n",
       "      <td>2</td>\n",
       "      <td>77</td>\n",
       "    </tr>\n",
       "    <tr>\n",
       "      <th>3</th>\n",
       "      <td>2023-02-03</td>\n",
       "      <td>803906</td>\n",
       "      <td>1</td>\n",
       "      <td>28026</td>\n",
       "      <td>2</td>\n",
       "      <td>87</td>\n",
       "    </tr>\n",
       "    <tr>\n",
       "      <th>4</th>\n",
       "      <td>2023-01-25</td>\n",
       "      <td>314182</td>\n",
       "      <td>1</td>\n",
       "      <td>28024</td>\n",
       "      <td>0</td>\n",
       "      <td>62</td>\n",
       "    </tr>\n",
       "    <tr>\n",
       "      <th>...</th>\n",
       "      <td>...</td>\n",
       "      <td>...</td>\n",
       "      <td>...</td>\n",
       "      <td>...</td>\n",
       "      <td>...</td>\n",
       "      <td>...</td>\n",
       "    </tr>\n",
       "    <tr>\n",
       "      <th>495</th>\n",
       "      <td>2023-03-01</td>\n",
       "      <td>204336</td>\n",
       "      <td>1</td>\n",
       "      <td>28083</td>\n",
       "      <td>4</td>\n",
       "      <td>21</td>\n",
       "    </tr>\n",
       "    <tr>\n",
       "      <th>496</th>\n",
       "      <td>2023-02-26</td>\n",
       "      <td>802317</td>\n",
       "      <td>0</td>\n",
       "      <td>28054</td>\n",
       "      <td>1</td>\n",
       "      <td>93</td>\n",
       "    </tr>\n",
       "    <tr>\n",
       "      <th>497</th>\n",
       "      <td>2023-02-02</td>\n",
       "      <td>549513</td>\n",
       "      <td>0</td>\n",
       "      <td>28053</td>\n",
       "      <td>2</td>\n",
       "      <td>99</td>\n",
       "    </tr>\n",
       "    <tr>\n",
       "      <th>498</th>\n",
       "      <td>2023-02-04</td>\n",
       "      <td>292753</td>\n",
       "      <td>0</td>\n",
       "      <td>28026</td>\n",
       "      <td>4</td>\n",
       "      <td>81</td>\n",
       "    </tr>\n",
       "    <tr>\n",
       "      <th>499</th>\n",
       "      <td>2023-03-12</td>\n",
       "      <td>103476</td>\n",
       "      <td>0</td>\n",
       "      <td>28071</td>\n",
       "      <td>5</td>\n",
       "      <td>28</td>\n",
       "    </tr>\n",
       "  </tbody>\n",
       "</table>\n",
       "<p>500 rows × 6 columns</p>\n",
       "</div>"
      ],
      "text/plain": [
       "    fecha_registro  user_id  sexo     cp  n_hijos_menores  edad\n",
       "0       2023-04-24   655346     0  28023                5    69\n",
       "1       2023-06-02   279526     1  28037                2    89\n",
       "2       2023-03-20   797457     1  28035                2    77\n",
       "3       2023-02-03   803906     1  28026                2    87\n",
       "4       2023-01-25   314182     1  28024                0    62\n",
       "..             ...      ...   ...    ...              ...   ...\n",
       "495     2023-03-01   204336     1  28083                4    21\n",
       "496     2023-02-26   802317     0  28054                1    93\n",
       "497     2023-02-02   549513     0  28053                2    99\n",
       "498     2023-02-04   292753     0  28026                4    81\n",
       "499     2023-03-12   103476     0  28071                5    28\n",
       "\n",
       "[500 rows x 6 columns]"
      ]
     },
     "execution_count": 189,
     "metadata": {},
     "output_type": "execute_result"
    }
   ],
   "source": [
    "df"
   ]
  },
  {
   "cell_type": "code",
   "execution_count": 190,
   "metadata": {},
   "outputs": [
    {
     "data": {
      "text/plain": [
       "fecha_registro     datetime64[ns]\n",
       "user_id                     int64\n",
       "sexo                        int32\n",
       "cp                          int64\n",
       "n_hijos_menores             int64\n",
       "edad                        int32\n",
       "dtype: object"
      ]
     },
     "execution_count": 190,
     "metadata": {},
     "output_type": "execute_result"
    }
   ],
   "source": [
    "df.dtypes"
   ]
  },
  {
   "cell_type": "code",
   "execution_count": 191,
   "metadata": {},
   "outputs": [
    {
     "data": {
      "text/plain": [
       "0      4\n",
       "1      6\n",
       "2      3\n",
       "3      2\n",
       "4      1\n",
       "      ..\n",
       "495    3\n",
       "496    2\n",
       "497    2\n",
       "498    2\n",
       "499    3\n",
       "Name: mes_registro, Length: 500, dtype: int32"
      ]
     },
     "execution_count": 191,
     "metadata": {},
     "output_type": "execute_result"
    }
   ],
   "source": [
    "# Extraemos el mes de la columna 'fecha_registro'\n",
    "df['mes_registro'] = df['fecha_registro'].dt.month\n",
    "df['mes_registro']"
   ]
  },
  {
   "cell_type": "code",
   "execution_count": 192,
   "metadata": {},
   "outputs": [
    {
     "data": {
      "text/plain": [
       "mes_registro\n",
       "1    64\n",
       "2    65\n",
       "3    77\n",
       "4    73\n",
       "5    67\n",
       "6    85\n",
       "7    69\n",
       "Name: count, dtype: int64"
      ]
     },
     "execution_count": 192,
     "metadata": {},
     "output_type": "execute_result"
    }
   ],
   "source": [
    "# Contamos el número de usuarios en cada mes\n",
    "users_por_mes = df['mes_registro'].value_counts().sort_index()\n",
    "users_por_mes"
   ]
  },
  {
   "cell_type": "code",
   "execution_count": 193,
   "metadata": {},
   "outputs": [
    {
     "data": {
      "text/plain": [
       "(array([95., 82., 89., 75., 82., 77.]),\n",
       " array([0., 1., 2., 3., 4., 5., 6.]),\n",
       " <BarContainer object of 6 artists>)"
      ]
     },
     "execution_count": 193,
     "metadata": {},
     "output_type": "execute_result"
    },
    {
     "data": {
      "image/png": "[encoded data removed]",
      "text/plain": [
       "<Figure size 640x480 with 1 Axes>"
      ]
     },
     "metadata": {},
     "output_type": "display_data"
    }
   ],
   "source": [
    "plt.hist(df['n_hijos_menores'], bins=range(min(df['n_hijos_menores']), max(df['n_hijos_menores']) + 2), \n",
    "         edgecolor='black', align='left', width=0.8)"
   ]
  },
  {
   "cell_type": "code",
   "execution_count": 194,
   "metadata": {},
   "outputs": [
    {
     "data": {
      "image/png": "[encoded data removed]",
      "text/plain": [
       "<Figure size 640x480 with 1 Axes>"
      ]
     },
     "metadata": {},
     "output_type": "display_data"
    },
    {
     "name": "stdout",
     "output_type": "stream",
     "text": [
      "Gráfico guardado en: c:\\Users\\alexm\\OneDrive\\Escritorio\\DESAFIO\\notebooks\\..\\docs\\images\\usuarios_por_mes_barras.png\n"
     ]
    }
   ],
   "source": [
    "\n",
    "# Ruta donde se guardará la imagen creada\n",
    "current_dir = os.getcwd()\n",
    "output_file = os.path.join(current_dir, '..','docs', 'images', 'usuarios_por_mes_barras.png')\n",
    "\n",
    "# Gráfico de barras para mostrar el número de usuarios por mes\n",
    "plt.bar(users_por_mes.index, users_por_mes.values)\n",
    "plt.xlabel('Mes')\n",
    "plt.ylabel('Número de usuarios')\n",
    "plt.title('Número de usuarios registrados por mes')\n",
    "plt.xticks(range(1, 13), ['Ene', 'Feb', 'Mar', 'Abr', 'May', 'Jun', 'Jul', 'Ago', 'Sep', 'Oct', 'Nov', 'Dic'])\n",
    "plt.savefig(output_file)\n",
    "plt.show()\n",
    "\n",
    "print(f\"Gráfico guardado en: {output_file}\")\n"
   ]
  },
  {
   "cell_type": "code",
   "execution_count": 195,
   "metadata": {},
   "outputs": [
    {
     "data": {
      "image/png": "[encoded data removed]",
      "text/plain": [
       "<Figure size 640x480 with 1 Axes>"
      ]
     },
     "metadata": {},
     "output_type": "display_data"
    },
    {
     "name": "stdout",
     "output_type": "stream",
     "text": [
      "Gráfico guardado en: c:\\Users\\alexm\\OneDrive\\Escritorio\\DESAFIO\\notebooks\\..\\docs\\images\\usuarios_por_mes_lineas.png\n"
     ]
    }
   ],
   "source": [
    "\n",
    "df['mes_registro'] = df['fecha_registro'].dt.month\n",
    "\n",
    "# Contamos el número de usuarios por mes\n",
    "users_por_mes = df['mes_registro'].value_counts().sort_index()\n",
    "\n",
    "# Ruta donde se guardará la imagen creada\n",
    "current_dir = os.getcwd()\n",
    "output_file = os.path.join(current_dir, '..', 'docs', 'images', 'usuarios_por_mes_lineas.png')\n",
    "\n",
    "# Gráfico de líneas para mostrar el número de usuarios por mes\n",
    "plt.plot(users_por_mes.index, users_por_mes.values, marker='o', color='b')\n",
    "plt.xlabel('Mes')\n",
    "plt.ylabel('Número de usuarios')\n",
    "plt.title('Número de usuarios registrados por mes')\n",
    "plt.xticks(range(1, 13), ['Ene', 'Feb', 'Mar', 'Abr', 'May', 'Jun', 'Jul', 'Ago', 'Sep', 'Oct', 'Nov', 'Dic'])\n",
    "plt.savefig(output_file)\n",
    "plt.show()\n",
    "\n",
    "print(f\"Gráfico guardado en: {output_file}\")\n",
    "\n"
   ]
  },
  {
   "cell_type": "code",
   "execution_count": 196,
   "metadata": {},
   "outputs": [
    {
     "data": {
      "application/vnd.plotly.v1+json": {
       "config": {
        "plotlyServerURL": "https://plot.ly"
       },
       "data": [
        {
         "alignmentgroup": "True",
         "hovertemplate": "Mes=%{x}<br>Número de usuarios=%{y}<br>text=%{text}<extra></extra>",
         "legendgroup": "",
         "marker": {
          "color": "#636efa",
          "pattern": {
           "shape": ""
          }
         },
         "name": "",
         "offsetgroup": "",
         "orientation": "v",
         "showlegend": false,
         "text": [
          64,
          65,
          77,
          73,
          67,
          85,
          69
         ],
         "textposition": "outside",
         "texttemplate": "%{text}",
         "type": "bar",
         "x": [
          1,
          2,
          3,
          4,
          5,
          6,
          7
         ],
         "xaxis": "x",
         "y": [
          64,
          65,
          77,
          73,
          67,
          85,
          69
         ],
         "yaxis": "y"
        }
       ],
       "layout": {
        "barmode": "relative",
        "height": 600,
        "legend": {
         "tracegroupgap": 0
        },
        "template": {
         "data": {
          "bar": [
           {
            "error_x": {
             "color": "#2a3f5f"
            },
            "error_y": {
             "color": "#2a3f5f"
            },
            "marker": {
             "line": {
              "color": "white",
              "width": 0.5
             },
             "pattern": {
              "fillmode": "overlay",
              "size": 10,
              "solidity": 0.2
             }
            },
            "type": "bar"
           }
          ],
          "barpolar": [
           {
            "marker": {
             "line": {
              "color": "white",
              "width": 0.5
             },
             "pattern": {
              "fillmode": "overlay",
              "size": 10,
              "solidity": 0.2
             }
            },
            "type": "barpolar"
           }
          ],
          "carpet": [
           {
            "aaxis": {
             "endlinecolor": "#2a3f5f",
             "gridcolor": "#C8D4E3",
             "linecolor": "#C8D4E3",
             "minorgridcolor": "#C8D4E3",
             "startlinecolor": "#2a3f5f"
            },
            "baxis": {
             "endlinecolor": "#2a3f5f",
             "gridcolor": "#C8D4E3",
             "linecolor": "#C8D4E3",
             "minorgridcolor": "#C8D4E3",
             "startlinecolor": "#2a3f5f"
            },
            "type": "carpet"
           }
          ],
          "choropleth": [
           {
            "colorbar": {
             "outlinewidth": 0,
             "ticks": ""
            },
            "type": "choropleth"
           }
          ],
          "contour": [
           {
            "colorbar": {
             "outlinewidth": 0,
             "ticks": ""
            },
            "colorscale": [
             [
              0,
              "#0d0887"
             ],
             [
              0.1111111111111111,
              "#46039f"
             ],
             [
              0.2222222222222222,
              "#7201a8"
             ],
             [
              0.3333333333333333,
              "#9c179e"
             ],
             [
              0.4444444444444444,
              "#bd3786"
             ],
             [
              0.5555555555555556,
              "#d8576b"
             ],
             [
              0.6666666666666666,
              "#ed7953"
             ],
             [
              0.7777777777777778,
              "#fb9f3a"
             ],
             [
              0.8888888888888888,
              "#fdca26"
             ],
             [
              1,
              "#f0f921"
             ]
            ],
            "type": "contour"
           }
          ],
          "contourcarpet": [
           {
            "colorbar": {
             "outlinewidth": 0,
             "ticks": ""
            },
            "type": "contourcarpet"
           }
          ],
          "heatmap": [
           {
            "colorbar": {
             "outlinewidth": 0,
             "ticks": ""
            },
            "colorscale": [
             [
              0,
              "#0d0887"
             ],
             [
              0.1111111111111111,
              "#46039f"
             ],
             [
              0.2222222222222222,
              "#7201a8"
             ],
             [
              0.3333333333333333,
              "#9c179e"
             ],
             [
              0.4444444444444444,
              "#bd3786"
             ],
             [
              0.5555555555555556,
              "#d8576b"
             ],
             [
              0.6666666666666666,
              "#ed7953"
             ],
             [
              0.7777777777777778,
              "#fb9f3a"
             ],
             [
              0.8888888888888888,
              "#fdca26"
             ],
             [
              1,
              "#f0f921"
             ]
            ],
            "type": "heatmap"
           }
          ],
          "heatmapgl": [
           {
            "colorbar": {
             "outlinewidth": 0,
             "ticks": ""
            },
            "colorscale": [
             [
              0,
              "#0d0887"
             ],
             [
              0.1111111111111111,
              "#46039f"
             ],
             [
              0.2222222222222222,
              "#7201a8"
             ],
             [
              0.3333333333333333,
              "#9c179e"
             ],
             [
              0.4444444444444444,
              "#bd3786"
             ],
             [
              0.5555555555555556,
              "#d8576b"
             ],
             [
              0.6666666666666666,
              "#ed7953"
             ],
             [
              0.7777777777777778,
              "#fb9f3a"
             ],
             [
              0.8888888888888888,
              "#fdca26"
             ],
             [
              1,
              "#f0f921"
             ]
            ],
            "type": "heatmapgl"
           }
          ],
          "histogram": [
           {
            "marker": {
             "pattern": {
              "fillmode": "overlay",
              "size": 10,
              "solidity": 0.2
             }
            },
            "type": "histogram"
           }
          ],
          "histogram2d": [
           {
            "colorbar": {
             "outlinewidth": 0,
             "ticks": ""
            },
            "colorscale": [
             [
              0,
              "#0d0887"
             ],
             [
              0.1111111111111111,
              "#46039f"
             ],
             [
              0.2222222222222222,
              "#7201a8"
             ],
             [
              0.3333333333333333,
              "#9c179e"
             ],
             [
              0.4444444444444444,
              "#bd3786"
             ],
             [
              0.5555555555555556,
              "#d8576b"
             ],
             [
              0.6666666666666666,
              "#ed7953"
             ],
             [
              0.7777777777777778,
              "#fb9f3a"
             ],
             [
              0.8888888888888888,
              "#fdca26"
             ],
             [
              1,
              "#f0f921"
             ]
            ],
            "type": "histogram2d"
           }
          ],
          "histogram2dcontour": [
           {
            "colorbar": {
             "outlinewidth": 0,
             "ticks": ""
            },
            "colorscale": [
             [
              0,
              "#0d0887"
             ],
             [
              0.1111111111111111,
              "#46039f"
             ],
             [
              0.2222222222222222,
              "#7201a8"
             ],
             [
              0.3333333333333333,
              "#9c179e"
             ],
             [
              0.4444444444444444,
              "#bd3786"
             ],
             [
              0.5555555555555556,
              "#d8576b"
             ],
             [
              0.6666666666666666,
              "#ed7953"
             ],
             [
              0.7777777777777778,
              "#fb9f3a"
             ],
             [
              0.8888888888888888,
              "#fdca26"
             ],
             [
              1,
              "#f0f921"
             ]
            ],
            "type": "histogram2dcontour"
           }
          ],
          "mesh3d": [
           {
            "colorbar": {
             "outlinewidth": 0,
             "ticks": ""
            },
            "type": "mesh3d"
           }
          ],
          "parcoords": [
           {
            "line": {
             "colorbar": {
              "outlinewidth": 0,
              "ticks": ""
             }
            },
            "type": "parcoords"
           }
          ],
          "pie": [
           {
            "automargin": true,
            "type": "pie"
           }
          ],
          "scatter": [
           {
            "fillpattern": {
             "fillmode": "overlay",
             "size": 10,
             "solidity": 0.2
            },
            "type": "scatter"
           }
          ],
          "scatter3d": [
           {
            "line": {
             "colorbar": {
              "outlinewidth": 0,
              "ticks": ""
             }
            },
            "marker": {
             "colorbar": {
              "outlinewidth": 0,
              "ticks": ""
             }
            },
            "type": "scatter3d"
           }
          ],
          "scattercarpet": [
           {
            "marker": {
             "colorbar": {
              "outlinewidth": 0,
              "ticks": ""
             }
            },
            "type": "scattercarpet"
           }
          ],
          "scattergeo": [
           {
            "marker": {
             "colorbar": {
              "outlinewidth": 0,
              "ticks": ""
             }
            },
            "type": "scattergeo"
           }
          ],
          "scattergl": [
           {
            "marker": {
             "colorbar": {
              "outlinewidth": 0,
              "ticks": ""
             }
            },
            "type": "scattergl"
           }
          ],
          "scattermapbox": [
           {
            "marker": {
             "colorbar": {
              "outlinewidth": 0,
              "ticks": ""
             }
            },
            "type": "scattermapbox"
           }
          ],
          "scatterpolar": [
           {
            "marker": {
             "colorbar": {
              "outlinewidth": 0,
              "ticks": ""
             }
            },
            "type": "scatterpolar"
           }
          ],
          "scatterpolargl": [
           {
            "marker": {
             "colorbar": {
              "outlinewidth": 0,
              "ticks": ""
             }
            },
            "type": "scatterpolargl"
           }
          ],
          "scatterternary": [
           {
            "marker": {
             "colorbar": {
              "outlinewidth": 0,
              "ticks": ""
             }
            },
            "type": "scatterternary"
           }
          ],
          "surface": [
           {
            "colorbar": {
             "outlinewidth": 0,
             "ticks": ""
            },
            "colorscale": [
             [
              0,
              "#0d0887"
             ],
             [
              0.1111111111111111,
              "#46039f"
             ],
             [
              0.2222222222222222,
              "#7201a8"
             ],
             [
              0.3333333333333333,
              "#9c179e"
             ],
             [
              0.4444444444444444,
              "#bd3786"
             ],
             [
              0.5555555555555556,
              "#d8576b"
             ],
             [
              0.6666666666666666,
              "#ed7953"
             ],
             [
              0.7777777777777778,
              "#fb9f3a"
             ],
             [
              0.8888888888888888,
              "#fdca26"
             ],
             [
              1,
              "#f0f921"
             ]
            ],
            "type": "surface"
           }
          ],
          "table": [
           {
            "cells": {
             "fill": {
              "color": "#EBF0F8"
             },
             "line": {
              "color": "white"
             }
            },
            "header": {
             "fill": {
              "color": "#C8D4E3"
             },
             "line": {
              "color": "white"
             }
            },
            "type": "table"
           }
          ]
         },
         "layout": {
          "annotationdefaults": {
           "arrowcolor": "#2a3f5f",
           "arrowhead": 0,
           "arrowwidth": 1
          },
          "autotypenumbers": "strict",
          "coloraxis": {
           "colorbar": {
            "outlinewidth": 0,
            "ticks": ""
           }
          },
          "colorscale": {
           "diverging": [
            [
             0,
             "#8e0152"
            ],
            [
             0.1,
             "#c51b7d"
            ],
            [
             0.2,
             "#de77ae"
            ],
            [
             0.3,
             "#f1b6da"
            ],
            [
             0.4,
             "#fde0ef"
            ],
            [
             0.5,
             "#f7f7f7"
            ],
            [
             0.6,
             "#e6f5d0"
            ],
            [
             0.7,
             "#b8e186"
            ],
            [
             0.8,
             "#7fbc41"
            ],
            [
             0.9,
             "#4d9221"
            ],
            [
             1,
             "#276419"
            ]
           ],
           "sequential": [
            [
             0,
             "#0d0887"
            ],
            [
             0.1111111111111111,
             "#46039f"
            ],
            [
             0.2222222222222222,
             "#7201a8"
            ],
            [
             0.3333333333333333,
             "#9c179e"
            ],
            [
             0.4444444444444444,
             "#bd3786"
            ],
            [
             0.5555555555555556,
             "#d8576b"
            ],
            [
             0.6666666666666666,
             "#ed7953"
            ],
            [
             0.7777777777777778,
             "#fb9f3a"
            ],
            [
             0.8888888888888888,
             "#fdca26"
            ],
            [
             1,
             "#f0f921"
            ]
           ],
           "sequentialminus": [
            [
             0,
             "#0d0887"
            ],
            [
             0.1111111111111111,
             "#46039f"
            ],
            [
             0.2222222222222222,
             "#7201a8"
            ],
            [
             0.3333333333333333,
             "#9c179e"
            ],
            [
             0.4444444444444444,
             "#bd3786"
            ],
            [
             0.5555555555555556,
             "#d8576b"
            ],
            [
             0.6666666666666666,
             "#ed7953"
            ],
            [
             0.7777777777777778,
             "#fb9f3a"
            ],
            [
             0.8888888888888888,
             "#fdca26"
            ],
            [
             1,
             "#f0f921"
            ]
           ]
          },
          "colorway": [
           "#636efa",
           "#EF553B",
           "#00cc96",
           "#ab63fa",
           "#FFA15A",
           "#19d3f3",
           "#FF6692",
           "#B6E880",
           "#FF97FF",
           "#FECB52"
          ],
          "font": {
           "color": "#2a3f5f"
          },
          "geo": {
           "bgcolor": "white",
           "lakecolor": "white",
           "landcolor": "white",
           "showlakes": true,
           "showland": true,
           "subunitcolor": "#C8D4E3"
          },
          "hoverlabel": {
           "align": "left"
          },
          "hovermode": "closest",
          "mapbox": {
           "style": "light"
          },
          "paper_bgcolor": "white",
          "plot_bgcolor": "white",
          "polar": {
           "angularaxis": {
            "gridcolor": "#EBF0F8",
            "linecolor": "#EBF0F8",
            "ticks": ""
           },
           "bgcolor": "white",
           "radialaxis": {
            "gridcolor": "#EBF0F8",
            "linecolor": "#EBF0F8",
            "ticks": ""
           }
          },
          "scene": {
           "xaxis": {
            "backgroundcolor": "white",
            "gridcolor": "#DFE8F3",
            "gridwidth": 2,
            "linecolor": "#EBF0F8",
            "showbackground": true,
            "ticks": "",
            "zerolinecolor": "#EBF0F8"
           },
           "yaxis": {
            "backgroundcolor": "white",
            "gridcolor": "#DFE8F3",
            "gridwidth": 2,
            "linecolor": "#EBF0F8",
            "showbackground": true,
            "ticks": "",
            "zerolinecolor": "#EBF0F8"
           },
           "zaxis": {
            "backgroundcolor": "white",
            "gridcolor": "#DFE8F3",
            "gridwidth": 2,
            "linecolor": "#EBF0F8",
            "showbackground": true,
            "ticks": "",
            "zerolinecolor": "#EBF0F8"
           }
          },
          "shapedefaults": {
           "line": {
            "color": "#2a3f5f"
           }
          },
          "ternary": {
           "aaxis": {
            "gridcolor": "#DFE8F3",
            "linecolor": "#A2B1C6",
            "ticks": ""
           },
           "baxis": {
            "gridcolor": "#DFE8F3",
            "linecolor": "#A2B1C6",
            "ticks": ""
           },
           "bgcolor": "white",
           "caxis": {
            "gridcolor": "#DFE8F3",
            "linecolor": "#A2B1C6",
            "ticks": ""
           }
          },
          "title": {
           "x": 0.05
          },
          "xaxis": {
           "automargin": true,
           "gridcolor": "#EBF0F8",
           "linecolor": "#EBF0F8",
           "ticks": "",
           "title": {
            "standoff": 15
           },
           "zerolinecolor": "#EBF0F8",
           "zerolinewidth": 2
          },
          "yaxis": {
           "automargin": true,
           "gridcolor": "#EBF0F8",
           "linecolor": "#EBF0F8",
           "ticks": "",
           "title": {
            "standoff": 15
           },
           "zerolinecolor": "#EBF0F8",
           "zerolinewidth": 2
          }
         }
        },
        "title": {
         "text": "Número de usuarios registrados por mes (hasta la fecha actual)"
        },
        "xaxis": {
         "anchor": "y",
         "domain": [
          0,
          1
         ],
         "ticktext": [
          "Ene",
          "Feb",
          "Mar",
          "Abr",
          "May",
          "Jun",
          "Jul",
          "Ago",
          "Sep",
          "Oct",
          "Nov",
          "Dic"
         ],
         "tickvals": [
          1,
          2,
          3,
          4,
          5,
          6,
          7,
          8,
          9,
          10,
          11,
          12
         ],
         "title": {
          "text": "Mes"
         }
        },
        "yaxis": {
         "anchor": "x",
         "domain": [
          0,
          1
         ],
         "title": {
          "text": "Número de usuarios"
         }
        }
       }
      }
     },
     "metadata": {},
     "output_type": "display_data"
    },
    {
     "name": "stdout",
     "output_type": "stream",
     "text": [
      "Gráfico guardado en: c:\\Users\\alexm\\OneDrive\\Escritorio\\DESAFIO\\notebooks\\..\\docs\\images\\usuarios_por_mes_dinámico.png\n"
     ]
    }
   ],
   "source": [
    "\n",
    "# Filtramos el DataFrame para incluir solo fechas anteriores o iguales a la fecha actual\n",
    "fecha_actual = datetime.now()\n",
    "df = df[df['fecha_registro'] <= fecha_actual]\n",
    "\n",
    "# Extraemos el mes de la columna 'fecha_registro'\n",
    "df['mes_registro'] = df['fecha_registro'].dt.month\n",
    "\n",
    "# Contamos el número de usuarios en cada mes\n",
    "users_por_mes = df['mes_registro'].value_counts().sort_index()\n",
    "\n",
    "# Ruta donde se guardará la imagen creada\n",
    "current_dir = os.getcwd()\n",
    "output_file = os.path.join(current_dir, '..', 'docs', 'images', 'usuarios_por_mes_dinámico.png')\n",
    "\n",
    "# Creamos un gráfico interactivo de barras con plotly\n",
    "fig = px.bar(x=users_por_mes.index, y=users_por_mes.values,\n",
    "             labels={'x': 'Mes', 'y': 'Número de usuarios'},\n",
    "             title='Número de usuarios registrados por mes (hasta la fecha actual)',\n",
    "             text=users_por_mes.values,\n",
    "             template='plotly_white')\n",
    "\n",
    "fig.update_traces(texttemplate='%{text}', textposition='outside')\n",
    "fig.update_layout(xaxis_tickvals=list(range(1, 13)), xaxis_ticktext=['Ene', 'Feb', 'Mar', 'Abr', 'May', 'Jun', 'Jul', 'Ago', 'Sep', 'Oct', 'Nov', 'Dic'])\n",
    "\n",
    "# Ajustamos el tamaño del gráfico\n",
    "fig.update_layout(height=600) \n",
    "\n",
    "# Guardamos y mostramos el gráfico interactivo\n",
    "fig.write_html(output_file)\n",
    "fig.show()\n",
    "\n",
    "print(f\"Gráfico guardado en: {output_file}\")\n"
   ]
  },
  {
   "cell_type": "markdown",
   "metadata": {},
   "source": [
    "<details>\n",
    "<summary>Explicación detallada del gráfico de números de usuarios registrados por mes</summary>\n",
    "<p>\n",
    "El gráfico interactivo de barras muestra la cantidad de usuarios que se han logueado por mes, permitiendo una visualización clara de los resultados. En particular, destaca que en el mes de mayo hubo un total de 88 personas logueadas, siendo el mes con mayor cantidad de usuarios registrados. Esta representación gráfica facilita la comprensión rápida de la evolución mensual del número de usuarios logueados, lo que resulta útil para evaluar si las mejoras o cambios implementados en nuestra aplicación web han generado un mayor interés por parte de los usuarios. La simplicidad del gráfico hace que sea una herramienta efectiva para monitorear el rendimiento y la recepción de la plataforma a lo largo del tiempo.\n",
    "\n",
    "\n",
    "\n",
    "</p>\n",
    "</details>"
   ]
  },
  {
   "cell_type": "markdown",
   "metadata": {},
   "source": [
    "### VISUALIZACIONES DE LA VARIABLE DE \"SEXO\""
   ]
  },
  {
   "cell_type": "code",
   "execution_count": 197,
   "metadata": {},
   "outputs": [
    {
     "data": {
      "image/png": "[encoded data removed]",
      "text/plain": [
       "<Figure size 640x480 with 1 Axes>"
      ]
     },
     "metadata": {},
     "output_type": "display_data"
    }
   ],
   "source": [
    "# Representar la variable de \"sexo\"\n",
    "custom_palette = {0: \"#FF800E\", 1: \"#1F75B4\"}\n",
    "\n",
    "\n",
    "sns.countplot(x=\"sexo\", data=df, palette= custom_palette)\n",
    "plt.title('Distribución por Sexo')\n",
    "plt.xlabel('Sexo')\n",
    "plt.ylabel('Frecuencia')\n",
    "plt.show()"
   ]
  },
  {
   "cell_type": "code",
   "execution_count": 198,
   "metadata": {},
   "outputs": [
    {
     "name": "stdout",
     "output_type": "stream",
     "text": [
      "Gráfico guardado en: c:\\Users\\alexm\\OneDrive\\Escritorio\\DESAFIO\\notebooks\\..\\docs\\images\\pie_plot_sexo.png\n"
     ]
    },
    {
     "data": {
      "image/png": "[encoded data removed]",
      "text/plain": [
       "<Figure size 640x480 with 1 Axes>"
      ]
     },
     "metadata": {},
     "output_type": "display_data"
    }
   ],
   "source": [
    "current_dir = os.getcwd() # Ruta del directorio actual\n",
    "output_file = os.path.join(current_dir, '..', 'docs', 'images', 'pie_plot_sexo.png') # Ruta donde se guardará la imagen creada\n",
    "\n",
    "# Mostramos el balanceo de datos \n",
    "fig2 = df['sexo'].value_counts().plot.pie(autopct=\"%.1f%%\")\n",
    "\n",
    "# Añadimos una leyenda personalizada\n",
    "etiquetas_leyenda = ['Hombre = 1', 'Mujer = 0']\n",
    "plt.legend(labels=etiquetas_leyenda, loc='upper right', bbox_to_anchor=(1.3, 1))\n",
    "\n",
    "fig2.figure.savefig(output_file) # Guardamos el gráfico\n",
    "\n",
    "print(f\"Gráfico guardado en: {output_file}\")\n"
   ]
  },
  {
   "cell_type": "markdown",
   "metadata": {},
   "source": [
    "<details>\n",
    "<summary>Explicación detallada de la variable \"sexo\"</summary>\n",
    "<p>\n",
    "A través de los gráficos realizados, se evidencia que la cantidad de usuarios hombres y mujeres en la aplicación web es equilibrada, con una leve inclinación hacia el género masculino, que representa aproximadamente el 52% de los usuarios. Sin embargo, esta diferencia es mínima y no puede considerarse significativa para afirmar que los usuarios hombres son mayoritarios. En consecuencia, podemos concluir que la aplicación es relevante y atractiva para ambos sexos de manera casi igualitaria. El equilibrio de género en la base de usuarios refuerza la idea de que la aplicación tiene un amplio alcance y aceptación en el público, independientemente del género.\n",
    "</p>\n",
    "</details>"
   ]
  },
  {
   "cell_type": "markdown",
   "metadata": {},
   "source": [
    "### VISUALIZACIONES DE LA VARIABLE \"EDAD\""
   ]
  },
  {
   "cell_type": "markdown",
   "metadata": {},
   "source": [
    "<details>\n",
    "<summary>Explicación detallada de la variable \"edad\"</summary>\n",
    "<p>\n",
    "En este análisis, realizaremos un agrupamiento de las edades para crear franjas de edad significativas. Posteriormente, asignaremos a cada franja un valor [0, 1, 2, 3] para facilitar la identificación de las categorías de edad predominantes y para analizar el conocimiento del calor en la educación en función de estas franjas.\n",
    "\n",
    "Las franjas de edad se definirán de la siguiente manera:\n",
    "\n",
    "- 18-24 años: Jóvenes adultos.\n",
    "- 25-44 años: Adultos jóvenes y de mediana edad.\n",
    "- 45-64 años: Adultos mayores.\n",
    "- 65 años y más: Personas en edad de jubilación.\n",
    "\n",
    "Asignar valores numéricos a cada franja nos permitirá realizar comparaciones cuantitativas y determinar con mayor claridad cómo el conocimiento sobre el calor en la educación se distribuye entre los diferentes grupos de edad.\n",
    "\n",
    "Al utilizar esta metodología, podremos identificar qué franja de edad tiene mayor conocimiento sobre el tema, cuál es la más receptiva a la información y en qué segmento de la población se debe enfocar más esfuerzos para mejorar la comprensión y conciencia sobre este tema.</p>\n",
    "</details>"
   ]
  },
  {
   "cell_type": "code",
   "execution_count": 199,
   "metadata": {},
   "outputs": [
    {
     "name": "stdout",
     "output_type": "stream",
     "text": [
      "101\n",
      "18\n"
     ]
    }
   ],
   "source": [
    "print(df[\"edad\"].max()) # Máxima\n",
    "print(df[\"edad\"].min()) # Mínima"
   ]
  },
  {
   "cell_type": "code",
   "execution_count": 200,
   "metadata": {},
   "outputs": [],
   "source": [
    "# Definimos las franjas de edad\n",
    "edades = [17, 25, 45, 65, float('inf')]\n",
    "etiquetas = ['17-24', '25-44', '45-64', '65+']\n",
    "\n",
    "# Usamos pd.cut() para crear los intervaloes\n",
    "df['franja_edad'] = pd.cut(df['edad'], bins=edades, labels=etiquetas)"
   ]
  },
  {
   "cell_type": "code",
   "execution_count": 201,
   "metadata": {},
   "outputs": [
    {
     "data": {
      "text/html": [
       "<div>\n",
       "<style scoped>\n",
       "    .dataframe tbody tr th:only-of-type {\n",
       "        vertical-align: middle;\n",
       "    }\n",
       "\n",
       "    .dataframe tbody tr th {\n",
       "        vertical-align: top;\n",
       "    }\n",
       "\n",
       "    .dataframe thead th {\n",
       "        text-align: right;\n",
       "    }\n",
       "</style>\n",
       "<table border=\"1\" class=\"dataframe\">\n",
       "  <thead>\n",
       "    <tr style=\"text-align: right;\">\n",
       "      <th></th>\n",
       "      <th>fecha_registro</th>\n",
       "      <th>user_id</th>\n",
       "      <th>sexo</th>\n",
       "      <th>cp</th>\n",
       "      <th>n_hijos_menores</th>\n",
       "      <th>edad</th>\n",
       "      <th>mes_registro</th>\n",
       "      <th>franja_edad</th>\n",
       "      <th>valor_franja_edad</th>\n",
       "    </tr>\n",
       "  </thead>\n",
       "  <tbody>\n",
       "    <tr>\n",
       "      <th>0</th>\n",
       "      <td>2023-04-24</td>\n",
       "      <td>655346</td>\n",
       "      <td>0</td>\n",
       "      <td>28023</td>\n",
       "      <td>5</td>\n",
       "      <td>69</td>\n",
       "      <td>4</td>\n",
       "      <td>65+</td>\n",
       "      <td>3</td>\n",
       "    </tr>\n",
       "    <tr>\n",
       "      <th>1</th>\n",
       "      <td>2023-06-02</td>\n",
       "      <td>279526</td>\n",
       "      <td>1</td>\n",
       "      <td>28037</td>\n",
       "      <td>2</td>\n",
       "      <td>89</td>\n",
       "      <td>6</td>\n",
       "      <td>65+</td>\n",
       "      <td>3</td>\n",
       "    </tr>\n",
       "    <tr>\n",
       "      <th>2</th>\n",
       "      <td>2023-03-20</td>\n",
       "      <td>797457</td>\n",
       "      <td>1</td>\n",
       "      <td>28035</td>\n",
       "      <td>2</td>\n",
       "      <td>77</td>\n",
       "      <td>3</td>\n",
       "      <td>65+</td>\n",
       "      <td>3</td>\n",
       "    </tr>\n",
       "    <tr>\n",
       "      <th>3</th>\n",
       "      <td>2023-02-03</td>\n",
       "      <td>803906</td>\n",
       "      <td>1</td>\n",
       "      <td>28026</td>\n",
       "      <td>2</td>\n",
       "      <td>87</td>\n",
       "      <td>2</td>\n",
       "      <td>65+</td>\n",
       "      <td>3</td>\n",
       "    </tr>\n",
       "    <tr>\n",
       "      <th>4</th>\n",
       "      <td>2023-01-25</td>\n",
       "      <td>314182</td>\n",
       "      <td>1</td>\n",
       "      <td>28024</td>\n",
       "      <td>0</td>\n",
       "      <td>62</td>\n",
       "      <td>1</td>\n",
       "      <td>45-64</td>\n",
       "      <td>2</td>\n",
       "    </tr>\n",
       "    <tr>\n",
       "      <th>...</th>\n",
       "      <td>...</td>\n",
       "      <td>...</td>\n",
       "      <td>...</td>\n",
       "      <td>...</td>\n",
       "      <td>...</td>\n",
       "      <td>...</td>\n",
       "      <td>...</td>\n",
       "      <td>...</td>\n",
       "      <td>...</td>\n",
       "    </tr>\n",
       "    <tr>\n",
       "      <th>495</th>\n",
       "      <td>2023-03-01</td>\n",
       "      <td>204336</td>\n",
       "      <td>1</td>\n",
       "      <td>28083</td>\n",
       "      <td>4</td>\n",
       "      <td>21</td>\n",
       "      <td>3</td>\n",
       "      <td>17-24</td>\n",
       "      <td>0</td>\n",
       "    </tr>\n",
       "    <tr>\n",
       "      <th>496</th>\n",
       "      <td>2023-02-26</td>\n",
       "      <td>802317</td>\n",
       "      <td>0</td>\n",
       "      <td>28054</td>\n",
       "      <td>1</td>\n",
       "      <td>93</td>\n",
       "      <td>2</td>\n",
       "      <td>65+</td>\n",
       "      <td>3</td>\n",
       "    </tr>\n",
       "    <tr>\n",
       "      <th>497</th>\n",
       "      <td>2023-02-02</td>\n",
       "      <td>549513</td>\n",
       "      <td>0</td>\n",
       "      <td>28053</td>\n",
       "      <td>2</td>\n",
       "      <td>99</td>\n",
       "      <td>2</td>\n",
       "      <td>65+</td>\n",
       "      <td>3</td>\n",
       "    </tr>\n",
       "    <tr>\n",
       "      <th>498</th>\n",
       "      <td>2023-02-04</td>\n",
       "      <td>292753</td>\n",
       "      <td>0</td>\n",
       "      <td>28026</td>\n",
       "      <td>4</td>\n",
       "      <td>81</td>\n",
       "      <td>2</td>\n",
       "      <td>65+</td>\n",
       "      <td>3</td>\n",
       "    </tr>\n",
       "    <tr>\n",
       "      <th>499</th>\n",
       "      <td>2023-03-12</td>\n",
       "      <td>103476</td>\n",
       "      <td>0</td>\n",
       "      <td>28071</td>\n",
       "      <td>5</td>\n",
       "      <td>28</td>\n",
       "      <td>3</td>\n",
       "      <td>25-44</td>\n",
       "      <td>1</td>\n",
       "    </tr>\n",
       "  </tbody>\n",
       "</table>\n",
       "<p>500 rows × 9 columns</p>\n",
       "</div>"
      ],
      "text/plain": [
       "    fecha_registro  user_id  sexo     cp  n_hijos_menores  edad  mes_registro   \n",
       "0       2023-04-24   655346     0  28023                5    69             4  \\\n",
       "1       2023-06-02   279526     1  28037                2    89             6   \n",
       "2       2023-03-20   797457     1  28035                2    77             3   \n",
       "3       2023-02-03   803906     1  28026                2    87             2   \n",
       "4       2023-01-25   314182     1  28024                0    62             1   \n",
       "..             ...      ...   ...    ...              ...   ...           ...   \n",
       "495     2023-03-01   204336     1  28083                4    21             3   \n",
       "496     2023-02-26   802317     0  28054                1    93             2   \n",
       "497     2023-02-02   549513     0  28053                2    99             2   \n",
       "498     2023-02-04   292753     0  28026                4    81             2   \n",
       "499     2023-03-12   103476     0  28071                5    28             3   \n",
       "\n",
       "    franja_edad valor_franja_edad  \n",
       "0           65+                 3  \n",
       "1           65+                 3  \n",
       "2           65+                 3  \n",
       "3           65+                 3  \n",
       "4         45-64                 2  \n",
       "..          ...               ...  \n",
       "495       17-24                 0  \n",
       "496         65+                 3  \n",
       "497         65+                 3  \n",
       "498         65+                 3  \n",
       "499       25-44                 1  \n",
       "\n",
       "[500 rows x 9 columns]"
      ]
     },
     "execution_count": 201,
     "metadata": {},
     "output_type": "execute_result"
    }
   ],
   "source": [
    "# Definimos el diccionario de mapeo para asignar valores específicos a cada categoría de edad\n",
    "valor_por_franja = {'17-24': 0, \n",
    "                    '25-44': 1, \n",
    "                    '45-64': 2, \n",
    "                    '65+': 3}\n",
    "\n",
    "# Aplicamos el mapeo para asignar los valores correspondientes a la columna 'franja_edad'\n",
    "df['valor_franja_edad'] = df['franja_edad'].map(valor_por_franja)\n",
    "\n",
    "df"
   ]
  },
  {
   "cell_type": "code",
   "execution_count": 202,
   "metadata": {},
   "outputs": [
    {
     "data": {
      "text/plain": [
       "0"
      ]
     },
     "execution_count": 202,
     "metadata": {},
     "output_type": "execute_result"
    }
   ],
   "source": [
    "# Comprobamos que no hay valores Nan\n",
    "df[\"valor_franja_edad\"].isnull().sum()"
   ]
  },
  {
   "cell_type": "code",
   "execution_count": 203,
   "metadata": {},
   "outputs": [
    {
     "name": "stdout",
     "output_type": "stream",
     "text": [
      "Gráfico guardado en: c:\\Users\\alexm\\OneDrive\\Escritorio\\DESAFIO\\notebooks\\..\\docs\\images\\pie_plot_franja_edad.png\n"
     ]
    },
    {
     "data": {
      "image/png": "[encoded data removed]",
      "text/plain": [
       "<Figure size 640x480 with 1 Axes>"
      ]
     },
     "metadata": {},
     "output_type": "display_data"
    }
   ],
   "source": [
    "current_dir = os.getcwd() # Ruta del directorio actual\n",
    "output_file = os.path.join(current_dir, '..','docs', 'images', 'pie_plot_franja_edad.png') # Ruta donde se guardará la imagen creada\n",
    "\n",
    "# Mostramos el balanceo de datos \n",
    "fig2 = df['valor_franja_edad'].value_counts().plot.pie(autopct=\"%.1f%%\")\n",
    "\n",
    "# Añadimos una leyenda\n",
    "etiquetas_franjas = ['18-24 = 0', '25-44 = 1', '45-64 = 2', '65+ = 3']\n",
    "plt.legend(labels=etiquetas_franjas, loc='upper right', bbox_to_anchor=(1.3, 1))\n",
    "\n",
    "fig2.figure.savefig(output_file) # Guardamos el gráfico\n",
    "\n",
    "print(f\"Gráfico guardado en: {output_file}\")"
   ]
  },
  {
   "cell_type": "code",
   "execution_count": 204,
   "metadata": {},
   "outputs": [],
   "source": [
    "# Para que el dataframe se vea entero las filas\n",
    "# pd.set_option('display.max_rows', None)"
   ]
  },
  {
   "cell_type": "code",
   "execution_count": 205,
   "metadata": {},
   "outputs": [
    {
     "name": "stdout",
     "output_type": "stream",
     "text": [
      "Gráfico guardado en: c:\\Users\\alexm\\OneDrive\\Escritorio\\DESAFIO\\notebooks\\..\\docs\\images\\pie_plot_franja_edad_espaciado.png\n"
     ]
    },
    {
     "data": {
      "image/png": "[encoded data removed]",
      "text/plain": [
       "<Figure size 640x480 with 1 Axes>"
      ]
     },
     "metadata": {},
     "output_type": "display_data"
    }
   ],
   "source": [
    "current_dir = os.getcwd() # Ruta del directorio actual\n",
    "output_file = os.path.join(current_dir,'..', 'docs', 'images', 'pie_plot_franja_edad_espaciado.png') # Ruta donde se guardará la imagen creada\n",
    "\n",
    "# Definimos una paleta de colores personalizada para cada categoría de edad\n",
    "custom_palette = {0: \"#d62728\", 1: \"#2ca02c\", 2: \"#ff7f0e\", 3: \"#1f77b4\"}\n",
    "\n",
    "# Ordenamos los valores por 'valor_franja_edad' para que coincidan con la paleta de colores y las etiquetas\n",
    "sorted_counts = df['valor_franja_edad'].value_counts().sort_index()\n",
    "\n",
    "# Porción de desplazamiento para cada franja del queso (0 para ninguna separación)\n",
    "explode = [0.015, 0.015, 0.015, 0.015]\n",
    "\n",
    "# Mostramos el balanceo de datos \n",
    "fig2 = sorted_counts.plot.pie(autopct=\"%.1f%%\", colors=[custom_palette[i] for i in sorted_counts.index], explode=explode)\n",
    "\n",
    "# Añadimos una leyenda personalizada con los colores correctos\n",
    "etiquetas_franjas = ['18-24', '25-44', '45-64', '65+']\n",
    "handles, _ = fig2.get_legend_handles_labels()\n",
    "plt.legend(handles=handles, labels=etiquetas_franjas, loc='upper right', bbox_to_anchor=(1.3, 1))\n",
    "\n",
    "fig2.figure.savefig(output_file) # Guardamos el gráfico\n",
    "\n",
    "print(f\"Gráfico guardado en: {output_file}\")\n"
   ]
  },
  {
   "cell_type": "code",
   "execution_count": 206,
   "metadata": {},
   "outputs": [
    {
     "name": "stderr",
     "output_type": "stream",
     "text": [
      "No artists with labels found to put in legend.  Note that artists whose label start with an underscore are ignored when legend() is called with no argument.\n"
     ]
    },
    {
     "name": "stdout",
     "output_type": "stream",
     "text": [
      "Gráfico guardado en: c:\\Users\\alexm\\OneDrive\\Escritorio\\DESAFIO\\notebooks\\..\\docs\\images\\pie_plot_franja_edad_circulos.png\n"
     ]
    },
    {
     "data": {
      "image/png": "[encoded data removed]",
      "text/plain": [
       "<Figure size 640x480 with 1 Axes>"
      ]
     },
     "metadata": {},
     "output_type": "display_data"
    }
   ],
   "source": [
    "current_dir = os.getcwd() # Ruta del directorio actual\n",
    "output_file = os.path.join(current_dir, '..','docs', 'images', 'pie_plot_franja_edad_circulos.png') # Ruta donde se guardará la imagen creada\n",
    "\n",
    "# Definimos una paleta de colores personalizada para cada categoría de edad\n",
    "custom_palette = {0: \"#d62728\", 1: \"#2ca02c\", 2: \"#ff7f0e\", 3: \"#1f77b4\"}\n",
    "\n",
    "# Ordenamos los valores por 'valor_franja_edad' para que coincidan con la paleta de colores y las etiquetas\n",
    "sorted_counts = df['valor_franja_edad'].value_counts().sort_index()\n",
    "\n",
    "# Porción de desplazamiento para cada franja del queso (0 para ninguna separación)\n",
    "explode = [0.015, 0.015, 0.015, 0.015]\n",
    "\n",
    "# Mostramos el balanceo de datos\n",
    "fig, ax = plt.subplots()\n",
    "\n",
    "# Gráfico de pastel\n",
    "wedges, texts, autotexts = ax.pie(sorted_counts, autopct=\"%.1f%%\", colors=[custom_palette[i] for i in sorted_counts.index], explode=explode)\n",
    "\n",
    "# Añadimos círculo en el centro para representar el total\n",
    "centre_circle = plt.Circle((0, 0), 0.70, fc='white')\n",
    "ax.add_artist(centre_circle)\n",
    "\n",
    "# Añadimos una leyenda personalizada con los colores correctos\n",
    "etiquetas_franjas = ['17-24', '25-44', '45-64', '65+']\n",
    "handles, _ = ax.get_legend_handles_labels()\n",
    "ax.legend(handles=handles, labels=etiquetas_franjas, loc='upper right', bbox_to_anchor=(1.3, 1))\n",
    "\n",
    "\n",
    "plt.axis('equal')  \n",
    "\n",
    "fig.savefig(output_file)  # Guardamos el gráfico\n",
    "\n",
    "print(f\"Gráfico guardado en: {output_file}\")\n",
    "\n"
   ]
  },
  {
   "cell_type": "markdown",
   "metadata": {},
   "source": [
    "<details>\n",
    "<summary>Explicación detallada de la variable \"edad\"</summary>\n",
    "<p>\n",
    "A través del gráfico de pastel anterior, se puede observar claramente que la mayoría abrumadora de los usuarios, un 43.4%, pertenecen a la franja de edad de 18 a 24 años. Esta cifra destaca significativamente en comparación con las otras franjas de edad. Tanto los usuarios de 25 a 44 años como los de 45 a 64 años muestran una proporción similar, representando el 22.2% y el 23.0% respectivamente.\n",
    "\n",
    "Sin embargo, es preocupante que la franja de edad de 18 a 24 años presente un porcentaje tan bajo, apenas un 11.4%. Esto sugiere que estos jóvenes muestran un menor agrado o interés por la aplicación web en comparación con otros grupos de edad.\n",
    "\n",
    "Estos datos son fundamentales para tomar decisiones informadas sobre posibles ajustes o mejoras dirigidas a la audiencia más joven y para capitalizar el éxito entre el grupo de usuarios más numeroso. El análisis de la distribución por edades proporciona información valiosa para comprender el comportamiento y las preferencias de los usuarios, lo que permitirá mejorar la experiencia global y el alcance de la aplicación web.\n",
    "</p>\n",
    "</details>"
   ]
  },
  {
   "cell_type": "markdown",
   "metadata": {},
   "source": [
    "### VISUALIZACIONES DE LA VARIABLE \"n_hijos_menores\""
   ]
  },
  {
   "cell_type": "code",
   "execution_count": 207,
   "metadata": {},
   "outputs": [
    {
     "data": {
      "text/html": [
       "<div>\n",
       "<style scoped>\n",
       "    .dataframe tbody tr th:only-of-type {\n",
       "        vertical-align: middle;\n",
       "    }\n",
       "\n",
       "    .dataframe tbody tr th {\n",
       "        vertical-align: top;\n",
       "    }\n",
       "\n",
       "    .dataframe thead th {\n",
       "        text-align: right;\n",
       "    }\n",
       "</style>\n",
       "<table border=\"1\" class=\"dataframe\">\n",
       "  <thead>\n",
       "    <tr style=\"text-align: right;\">\n",
       "      <th></th>\n",
       "      <th>fecha_registro</th>\n",
       "      <th>user_id</th>\n",
       "      <th>sexo</th>\n",
       "      <th>cp</th>\n",
       "      <th>n_hijos_menores</th>\n",
       "      <th>edad</th>\n",
       "      <th>mes_registro</th>\n",
       "      <th>franja_edad</th>\n",
       "      <th>valor_franja_edad</th>\n",
       "    </tr>\n",
       "  </thead>\n",
       "  <tbody>\n",
       "    <tr>\n",
       "      <th>0</th>\n",
       "      <td>2023-04-24</td>\n",
       "      <td>655346</td>\n",
       "      <td>0</td>\n",
       "      <td>28023</td>\n",
       "      <td>5</td>\n",
       "      <td>69</td>\n",
       "      <td>4</td>\n",
       "      <td>65+</td>\n",
       "      <td>3</td>\n",
       "    </tr>\n",
       "    <tr>\n",
       "      <th>1</th>\n",
       "      <td>2023-06-02</td>\n",
       "      <td>279526</td>\n",
       "      <td>1</td>\n",
       "      <td>28037</td>\n",
       "      <td>2</td>\n",
       "      <td>89</td>\n",
       "      <td>6</td>\n",
       "      <td>65+</td>\n",
       "      <td>3</td>\n",
       "    </tr>\n",
       "    <tr>\n",
       "      <th>2</th>\n",
       "      <td>2023-03-20</td>\n",
       "      <td>797457</td>\n",
       "      <td>1</td>\n",
       "      <td>28035</td>\n",
       "      <td>2</td>\n",
       "      <td>77</td>\n",
       "      <td>3</td>\n",
       "      <td>65+</td>\n",
       "      <td>3</td>\n",
       "    </tr>\n",
       "    <tr>\n",
       "      <th>3</th>\n",
       "      <td>2023-02-03</td>\n",
       "      <td>803906</td>\n",
       "      <td>1</td>\n",
       "      <td>28026</td>\n",
       "      <td>2</td>\n",
       "      <td>87</td>\n",
       "      <td>2</td>\n",
       "      <td>65+</td>\n",
       "      <td>3</td>\n",
       "    </tr>\n",
       "    <tr>\n",
       "      <th>4</th>\n",
       "      <td>2023-01-25</td>\n",
       "      <td>314182</td>\n",
       "      <td>1</td>\n",
       "      <td>28024</td>\n",
       "      <td>0</td>\n",
       "      <td>62</td>\n",
       "      <td>1</td>\n",
       "      <td>45-64</td>\n",
       "      <td>2</td>\n",
       "    </tr>\n",
       "    <tr>\n",
       "      <th>...</th>\n",
       "      <td>...</td>\n",
       "      <td>...</td>\n",
       "      <td>...</td>\n",
       "      <td>...</td>\n",
       "      <td>...</td>\n",
       "      <td>...</td>\n",
       "      <td>...</td>\n",
       "      <td>...</td>\n",
       "      <td>...</td>\n",
       "    </tr>\n",
       "    <tr>\n",
       "      <th>495</th>\n",
       "      <td>2023-03-01</td>\n",
       "      <td>204336</td>\n",
       "      <td>1</td>\n",
       "      <td>28083</td>\n",
       "      <td>4</td>\n",
       "      <td>21</td>\n",
       "      <td>3</td>\n",
       "      <td>17-24</td>\n",
       "      <td>0</td>\n",
       "    </tr>\n",
       "    <tr>\n",
       "      <th>496</th>\n",
       "      <td>2023-02-26</td>\n",
       "      <td>802317</td>\n",
       "      <td>0</td>\n",
       "      <td>28054</td>\n",
       "      <td>1</td>\n",
       "      <td>93</td>\n",
       "      <td>2</td>\n",
       "      <td>65+</td>\n",
       "      <td>3</td>\n",
       "    </tr>\n",
       "    <tr>\n",
       "      <th>497</th>\n",
       "      <td>2023-02-02</td>\n",
       "      <td>549513</td>\n",
       "      <td>0</td>\n",
       "      <td>28053</td>\n",
       "      <td>2</td>\n",
       "      <td>99</td>\n",
       "      <td>2</td>\n",
       "      <td>65+</td>\n",
       "      <td>3</td>\n",
       "    </tr>\n",
       "    <tr>\n",
       "      <th>498</th>\n",
       "      <td>2023-02-04</td>\n",
       "      <td>292753</td>\n",
       "      <td>0</td>\n",
       "      <td>28026</td>\n",
       "      <td>4</td>\n",
       "      <td>81</td>\n",
       "      <td>2</td>\n",
       "      <td>65+</td>\n",
       "      <td>3</td>\n",
       "    </tr>\n",
       "    <tr>\n",
       "      <th>499</th>\n",
       "      <td>2023-03-12</td>\n",
       "      <td>103476</td>\n",
       "      <td>0</td>\n",
       "      <td>28071</td>\n",
       "      <td>5</td>\n",
       "      <td>28</td>\n",
       "      <td>3</td>\n",
       "      <td>25-44</td>\n",
       "      <td>1</td>\n",
       "    </tr>\n",
       "  </tbody>\n",
       "</table>\n",
       "<p>500 rows × 9 columns</p>\n",
       "</div>"
      ],
      "text/plain": [
       "    fecha_registro  user_id  sexo     cp  n_hijos_menores  edad  mes_registro   \n",
       "0       2023-04-24   655346     0  28023                5    69             4  \\\n",
       "1       2023-06-02   279526     1  28037                2    89             6   \n",
       "2       2023-03-20   797457     1  28035                2    77             3   \n",
       "3       2023-02-03   803906     1  28026                2    87             2   \n",
       "4       2023-01-25   314182     1  28024                0    62             1   \n",
       "..             ...      ...   ...    ...              ...   ...           ...   \n",
       "495     2023-03-01   204336     1  28083                4    21             3   \n",
       "496     2023-02-26   802317     0  28054                1    93             2   \n",
       "497     2023-02-02   549513     0  28053                2    99             2   \n",
       "498     2023-02-04   292753     0  28026                4    81             2   \n",
       "499     2023-03-12   103476     0  28071                5    28             3   \n",
       "\n",
       "    franja_edad valor_franja_edad  \n",
       "0           65+                 3  \n",
       "1           65+                 3  \n",
       "2           65+                 3  \n",
       "3           65+                 3  \n",
       "4         45-64                 2  \n",
       "..          ...               ...  \n",
       "495       17-24                 0  \n",
       "496         65+                 3  \n",
       "497         65+                 3  \n",
       "498         65+                 3  \n",
       "499       25-44                 1  \n",
       "\n",
       "[500 rows x 9 columns]"
      ]
     },
     "execution_count": 207,
     "metadata": {},
     "output_type": "execute_result"
    }
   ],
   "source": [
    "df"
   ]
  },
  {
   "cell_type": "code",
   "execution_count": 208,
   "metadata": {},
   "outputs": [
    {
     "name": "stdout",
     "output_type": "stream",
     "text": [
      "Análisis estadístico de la columna 'n_hijos_menores':\n",
      "Promedio: 2.396\n",
      "Mediana: 2.0\n",
      "Desviación estándar: 1.7219507044212718\n"
     ]
    }
   ],
   "source": [
    "# Análisis estadístico básico de la columna 'n_hijos_menores'\n",
    "promedio_hijos_menores = df['n_hijos_menores'].mean()\n",
    "mediana_hijos_menores = df['n_hijos_menores'].median()\n",
    "desviacion_estandar_hijos_menores = df['n_hijos_menores'].std()\n",
    "\n",
    "print(\"Análisis estadístico de la columna 'n_hijos_menores':\")\n",
    "print(f\"Promedio: {promedio_hijos_menores}\")\n",
    "print(f\"Mediana: {mediana_hijos_menores}\")\n",
    "print(f\"Desviación estándar: {desviacion_estandar_hijos_menores}\")"
   ]
  },
  {
   "cell_type": "code",
   "execution_count": 209,
   "metadata": {},
   "outputs": [
    {
     "data": {
      "text/html": [
       "<div>\n",
       "<style scoped>\n",
       "    .dataframe tbody tr th:only-of-type {\n",
       "        vertical-align: middle;\n",
       "    }\n",
       "\n",
       "    .dataframe tbody tr th {\n",
       "        vertical-align: top;\n",
       "    }\n",
       "\n",
       "    .dataframe thead th {\n",
       "        text-align: right;\n",
       "    }\n",
       "</style>\n",
       "<table border=\"1\" class=\"dataframe\">\n",
       "  <thead>\n",
       "    <tr style=\"text-align: right;\">\n",
       "      <th></th>\n",
       "      <th>fecha_registro</th>\n",
       "      <th>user_id</th>\n",
       "      <th>sexo</th>\n",
       "      <th>cp</th>\n",
       "      <th>n_hijos_menores</th>\n",
       "      <th>edad</th>\n",
       "      <th>mes_registro</th>\n",
       "      <th>franja_edad</th>\n",
       "      <th>valor_franja_edad</th>\n",
       "      <th>tiene_hijos</th>\n",
       "    </tr>\n",
       "  </thead>\n",
       "  <tbody>\n",
       "    <tr>\n",
       "      <th>0</th>\n",
       "      <td>2023-04-24</td>\n",
       "      <td>655346</td>\n",
       "      <td>0</td>\n",
       "      <td>28023</td>\n",
       "      <td>5</td>\n",
       "      <td>69</td>\n",
       "      <td>4</td>\n",
       "      <td>65+</td>\n",
       "      <td>3</td>\n",
       "      <td>True</td>\n",
       "    </tr>\n",
       "    <tr>\n",
       "      <th>1</th>\n",
       "      <td>2023-06-02</td>\n",
       "      <td>279526</td>\n",
       "      <td>1</td>\n",
       "      <td>28037</td>\n",
       "      <td>2</td>\n",
       "      <td>89</td>\n",
       "      <td>6</td>\n",
       "      <td>65+</td>\n",
       "      <td>3</td>\n",
       "      <td>True</td>\n",
       "    </tr>\n",
       "    <tr>\n",
       "      <th>2</th>\n",
       "      <td>2023-03-20</td>\n",
       "      <td>797457</td>\n",
       "      <td>1</td>\n",
       "      <td>28035</td>\n",
       "      <td>2</td>\n",
       "      <td>77</td>\n",
       "      <td>3</td>\n",
       "      <td>65+</td>\n",
       "      <td>3</td>\n",
       "      <td>True</td>\n",
       "    </tr>\n",
       "    <tr>\n",
       "      <th>3</th>\n",
       "      <td>2023-02-03</td>\n",
       "      <td>803906</td>\n",
       "      <td>1</td>\n",
       "      <td>28026</td>\n",
       "      <td>2</td>\n",
       "      <td>87</td>\n",
       "      <td>2</td>\n",
       "      <td>65+</td>\n",
       "      <td>3</td>\n",
       "      <td>True</td>\n",
       "    </tr>\n",
       "    <tr>\n",
       "      <th>4</th>\n",
       "      <td>2023-01-25</td>\n",
       "      <td>314182</td>\n",
       "      <td>1</td>\n",
       "      <td>28024</td>\n",
       "      <td>0</td>\n",
       "      <td>62</td>\n",
       "      <td>1</td>\n",
       "      <td>45-64</td>\n",
       "      <td>2</td>\n",
       "      <td>False</td>\n",
       "    </tr>\n",
       "    <tr>\n",
       "      <th>...</th>\n",
       "      <td>...</td>\n",
       "      <td>...</td>\n",
       "      <td>...</td>\n",
       "      <td>...</td>\n",
       "      <td>...</td>\n",
       "      <td>...</td>\n",
       "      <td>...</td>\n",
       "      <td>...</td>\n",
       "      <td>...</td>\n",
       "      <td>...</td>\n",
       "    </tr>\n",
       "    <tr>\n",
       "      <th>495</th>\n",
       "      <td>2023-03-01</td>\n",
       "      <td>204336</td>\n",
       "      <td>1</td>\n",
       "      <td>28083</td>\n",
       "      <td>4</td>\n",
       "      <td>21</td>\n",
       "      <td>3</td>\n",
       "      <td>17-24</td>\n",
       "      <td>0</td>\n",
       "      <td>True</td>\n",
       "    </tr>\n",
       "    <tr>\n",
       "      <th>496</th>\n",
       "      <td>2023-02-26</td>\n",
       "      <td>802317</td>\n",
       "      <td>0</td>\n",
       "      <td>28054</td>\n",
       "      <td>1</td>\n",
       "      <td>93</td>\n",
       "      <td>2</td>\n",
       "      <td>65+</td>\n",
       "      <td>3</td>\n",
       "      <td>True</td>\n",
       "    </tr>\n",
       "    <tr>\n",
       "      <th>497</th>\n",
       "      <td>2023-02-02</td>\n",
       "      <td>549513</td>\n",
       "      <td>0</td>\n",
       "      <td>28053</td>\n",
       "      <td>2</td>\n",
       "      <td>99</td>\n",
       "      <td>2</td>\n",
       "      <td>65+</td>\n",
       "      <td>3</td>\n",
       "      <td>True</td>\n",
       "    </tr>\n",
       "    <tr>\n",
       "      <th>498</th>\n",
       "      <td>2023-02-04</td>\n",
       "      <td>292753</td>\n",
       "      <td>0</td>\n",
       "      <td>28026</td>\n",
       "      <td>4</td>\n",
       "      <td>81</td>\n",
       "      <td>2</td>\n",
       "      <td>65+</td>\n",
       "      <td>3</td>\n",
       "      <td>True</td>\n",
       "    </tr>\n",
       "    <tr>\n",
       "      <th>499</th>\n",
       "      <td>2023-03-12</td>\n",
       "      <td>103476</td>\n",
       "      <td>0</td>\n",
       "      <td>28071</td>\n",
       "      <td>5</td>\n",
       "      <td>28</td>\n",
       "      <td>3</td>\n",
       "      <td>25-44</td>\n",
       "      <td>1</td>\n",
       "      <td>True</td>\n",
       "    </tr>\n",
       "  </tbody>\n",
       "</table>\n",
       "<p>500 rows × 10 columns</p>\n",
       "</div>"
      ],
      "text/plain": [
       "    fecha_registro  user_id  sexo     cp  n_hijos_menores  edad  mes_registro   \n",
       "0       2023-04-24   655346     0  28023                5    69             4  \\\n",
       "1       2023-06-02   279526     1  28037                2    89             6   \n",
       "2       2023-03-20   797457     1  28035                2    77             3   \n",
       "3       2023-02-03   803906     1  28026                2    87             2   \n",
       "4       2023-01-25   314182     1  28024                0    62             1   \n",
       "..             ...      ...   ...    ...              ...   ...           ...   \n",
       "495     2023-03-01   204336     1  28083                4    21             3   \n",
       "496     2023-02-26   802317     0  28054                1    93             2   \n",
       "497     2023-02-02   549513     0  28053                2    99             2   \n",
       "498     2023-02-04   292753     0  28026                4    81             2   \n",
       "499     2023-03-12   103476     0  28071                5    28             3   \n",
       "\n",
       "    franja_edad valor_franja_edad  tiene_hijos  \n",
       "0           65+                 3         True  \n",
       "1           65+                 3         True  \n",
       "2           65+                 3         True  \n",
       "3           65+                 3         True  \n",
       "4         45-64                 2        False  \n",
       "..          ...               ...          ...  \n",
       "495       17-24                 0         True  \n",
       "496         65+                 3         True  \n",
       "497         65+                 3         True  \n",
       "498         65+                 3         True  \n",
       "499       25-44                 1         True  \n",
       "\n",
       "[500 rows x 10 columns]"
      ]
     },
     "execution_count": 209,
     "metadata": {},
     "output_type": "execute_result"
    }
   ],
   "source": [
    "\n",
    "# Creamos una nueva columna \"tiene_hijos\" que indica si el usuario tiene hijos menores o no\n",
    "df['tiene_hijos'] = df['n_hijos_menores'] > 0\n",
    "\n",
    "# Dividimos a los usuarios en dos grupos: aquellos con hijos menores y aquellos sin hijos menores\n",
    "usuarios_con_hijos = df[df['tiene_hijos']]\n",
    "usuarios_sin_hijos = df[~df['tiene_hijos']]\n",
    "\n",
    "df\n"
   ]
  },
  {
   "cell_type": "code",
   "execution_count": 210,
   "metadata": {},
   "outputs": [],
   "source": [
    "# De la columna de \"Sexo\"\n",
    "df[\"tiene_hijos\"][df[\"tiene_hijos\"] == \"False\"] = 0 # mujer\n",
    "df[\"tiene_hijos\"][df[\"tiene_hijos\"] == \"True\"] = 1 # hombre\n",
    "\n",
    "# Cambio de tipo objet a tipo int\n",
    "df[\"tiene_hijos\"] = df[\"tiene_hijos\"].astype(int)"
   ]
  },
  {
   "cell_type": "code",
   "execution_count": 211,
   "metadata": {},
   "outputs": [
    {
     "data": {
      "text/html": [
       "<div>\n",
       "<style scoped>\n",
       "    .dataframe tbody tr th:only-of-type {\n",
       "        vertical-align: middle;\n",
       "    }\n",
       "\n",
       "    .dataframe tbody tr th {\n",
       "        vertical-align: top;\n",
       "    }\n",
       "\n",
       "    .dataframe thead th {\n",
       "        text-align: right;\n",
       "    }\n",
       "</style>\n",
       "<table border=\"1\" class=\"dataframe\">\n",
       "  <thead>\n",
       "    <tr style=\"text-align: right;\">\n",
       "      <th></th>\n",
       "      <th>fecha_registro</th>\n",
       "      <th>user_id</th>\n",
       "      <th>sexo</th>\n",
       "      <th>cp</th>\n",
       "      <th>n_hijos_menores</th>\n",
       "      <th>edad</th>\n",
       "      <th>mes_registro</th>\n",
       "      <th>franja_edad</th>\n",
       "      <th>valor_franja_edad</th>\n",
       "      <th>tiene_hijos</th>\n",
       "    </tr>\n",
       "  </thead>\n",
       "  <tbody>\n",
       "    <tr>\n",
       "      <th>0</th>\n",
       "      <td>2023-04-24</td>\n",
       "      <td>655346</td>\n",
       "      <td>0</td>\n",
       "      <td>28023</td>\n",
       "      <td>5</td>\n",
       "      <td>69</td>\n",
       "      <td>4</td>\n",
       "      <td>65+</td>\n",
       "      <td>3</td>\n",
       "      <td>1</td>\n",
       "    </tr>\n",
       "    <tr>\n",
       "      <th>1</th>\n",
       "      <td>2023-06-02</td>\n",
       "      <td>279526</td>\n",
       "      <td>1</td>\n",
       "      <td>28037</td>\n",
       "      <td>2</td>\n",
       "      <td>89</td>\n",
       "      <td>6</td>\n",
       "      <td>65+</td>\n",
       "      <td>3</td>\n",
       "      <td>1</td>\n",
       "    </tr>\n",
       "    <tr>\n",
       "      <th>2</th>\n",
       "      <td>2023-03-20</td>\n",
       "      <td>797457</td>\n",
       "      <td>1</td>\n",
       "      <td>28035</td>\n",
       "      <td>2</td>\n",
       "      <td>77</td>\n",
       "      <td>3</td>\n",
       "      <td>65+</td>\n",
       "      <td>3</td>\n",
       "      <td>1</td>\n",
       "    </tr>\n",
       "    <tr>\n",
       "      <th>3</th>\n",
       "      <td>2023-02-03</td>\n",
       "      <td>803906</td>\n",
       "      <td>1</td>\n",
       "      <td>28026</td>\n",
       "      <td>2</td>\n",
       "      <td>87</td>\n",
       "      <td>2</td>\n",
       "      <td>65+</td>\n",
       "      <td>3</td>\n",
       "      <td>1</td>\n",
       "    </tr>\n",
       "    <tr>\n",
       "      <th>4</th>\n",
       "      <td>2023-01-25</td>\n",
       "      <td>314182</td>\n",
       "      <td>1</td>\n",
       "      <td>28024</td>\n",
       "      <td>0</td>\n",
       "      <td>62</td>\n",
       "      <td>1</td>\n",
       "      <td>45-64</td>\n",
       "      <td>2</td>\n",
       "      <td>0</td>\n",
       "    </tr>\n",
       "    <tr>\n",
       "      <th>...</th>\n",
       "      <td>...</td>\n",
       "      <td>...</td>\n",
       "      <td>...</td>\n",
       "      <td>...</td>\n",
       "      <td>...</td>\n",
       "      <td>...</td>\n",
       "      <td>...</td>\n",
       "      <td>...</td>\n",
       "      <td>...</td>\n",
       "      <td>...</td>\n",
       "    </tr>\n",
       "    <tr>\n",
       "      <th>495</th>\n",
       "      <td>2023-03-01</td>\n",
       "      <td>204336</td>\n",
       "      <td>1</td>\n",
       "      <td>28083</td>\n",
       "      <td>4</td>\n",
       "      <td>21</td>\n",
       "      <td>3</td>\n",
       "      <td>17-24</td>\n",
       "      <td>0</td>\n",
       "      <td>1</td>\n",
       "    </tr>\n",
       "    <tr>\n",
       "      <th>496</th>\n",
       "      <td>2023-02-26</td>\n",
       "      <td>802317</td>\n",
       "      <td>0</td>\n",
       "      <td>28054</td>\n",
       "      <td>1</td>\n",
       "      <td>93</td>\n",
       "      <td>2</td>\n",
       "      <td>65+</td>\n",
       "      <td>3</td>\n",
       "      <td>1</td>\n",
       "    </tr>\n",
       "    <tr>\n",
       "      <th>497</th>\n",
       "      <td>2023-02-02</td>\n",
       "      <td>549513</td>\n",
       "      <td>0</td>\n",
       "      <td>28053</td>\n",
       "      <td>2</td>\n",
       "      <td>99</td>\n",
       "      <td>2</td>\n",
       "      <td>65+</td>\n",
       "      <td>3</td>\n",
       "      <td>1</td>\n",
       "    </tr>\n",
       "    <tr>\n",
       "      <th>498</th>\n",
       "      <td>2023-02-04</td>\n",
       "      <td>292753</td>\n",
       "      <td>0</td>\n",
       "      <td>28026</td>\n",
       "      <td>4</td>\n",
       "      <td>81</td>\n",
       "      <td>2</td>\n",
       "      <td>65+</td>\n",
       "      <td>3</td>\n",
       "      <td>1</td>\n",
       "    </tr>\n",
       "    <tr>\n",
       "      <th>499</th>\n",
       "      <td>2023-03-12</td>\n",
       "      <td>103476</td>\n",
       "      <td>0</td>\n",
       "      <td>28071</td>\n",
       "      <td>5</td>\n",
       "      <td>28</td>\n",
       "      <td>3</td>\n",
       "      <td>25-44</td>\n",
       "      <td>1</td>\n",
       "      <td>1</td>\n",
       "    </tr>\n",
       "  </tbody>\n",
       "</table>\n",
       "<p>500 rows × 10 columns</p>\n",
       "</div>"
      ],
      "text/plain": [
       "    fecha_registro  user_id  sexo     cp  n_hijos_menores  edad  mes_registro   \n",
       "0       2023-04-24   655346     0  28023                5    69             4  \\\n",
       "1       2023-06-02   279526     1  28037                2    89             6   \n",
       "2       2023-03-20   797457     1  28035                2    77             3   \n",
       "3       2023-02-03   803906     1  28026                2    87             2   \n",
       "4       2023-01-25   314182     1  28024                0    62             1   \n",
       "..             ...      ...   ...    ...              ...   ...           ...   \n",
       "495     2023-03-01   204336     1  28083                4    21             3   \n",
       "496     2023-02-26   802317     0  28054                1    93             2   \n",
       "497     2023-02-02   549513     0  28053                2    99             2   \n",
       "498     2023-02-04   292753     0  28026                4    81             2   \n",
       "499     2023-03-12   103476     0  28071                5    28             3   \n",
       "\n",
       "    franja_edad valor_franja_edad  tiene_hijos  \n",
       "0           65+                 3            1  \n",
       "1           65+                 3            1  \n",
       "2           65+                 3            1  \n",
       "3           65+                 3            1  \n",
       "4         45-64                 2            0  \n",
       "..          ...               ...          ...  \n",
       "495       17-24                 0            1  \n",
       "496         65+                 3            1  \n",
       "497         65+                 3            1  \n",
       "498         65+                 3            1  \n",
       "499       25-44                 1            1  \n",
       "\n",
       "[500 rows x 10 columns]"
      ]
     },
     "execution_count": 211,
     "metadata": {},
     "output_type": "execute_result"
    }
   ],
   "source": [
    "df"
   ]
  },
  {
   "cell_type": "code",
   "execution_count": 212,
   "metadata": {},
   "outputs": [
    {
     "data": {
      "image/png": "[encoded data removed]",
      "text/plain": [
       "<Figure size 640x480 with 1 Axes>"
      ]
     },
     "metadata": {},
     "output_type": "display_data"
    },
    {
     "name": "stdout",
     "output_type": "stream",
     "text": [
      "Gráfico guardado en: c:\\Users\\alexm\\OneDrive\\Escritorio\\DESAFIO\\notebooks\\..\\docs\\images\\cantidad_hijos_menores.png\n"
     ]
    }
   ],
   "source": [
    "\n",
    "# Creamos un histograma para la cantidad de hijos menores\n",
    "plt.hist(df['n_hijos_menores'], bins=range(min(df['n_hijos_menores']), max(df['n_hijos_menores']) + 2), \n",
    "         edgecolor='black', align='left', width=0.8)\n",
    "plt.xlabel('Cantidad de hijos menores')\n",
    "plt.ylabel('Frecuencia')\n",
    "plt.title('Distribución de la cantidad de hijos menores')\n",
    "\n",
    "# Ruta donde se guardará la imagen creada\n",
    "current_dir = os.getcwd()  # Ruta del directorio actual\n",
    "output_dir = os.path.join(current_dir, '..','docs', 'images')\n",
    "\n",
    "# Verificamos si el directorio de salida existe, si no, lo creamos\n",
    "if not os.path.exists(output_dir):\n",
    "    os.makedirs(output_dir)\n",
    "\n",
    "output_file = os.path.join(output_dir, 'cantidad_hijos_menores.png')  # Ruta completa del archivo\n",
    "\n",
    "plt.savefig(output_file)  # Guardamos la imagen\n",
    "plt.show()\n",
    "\n",
    "print(f\"Gráfico guardado en: {output_file}\")\n"
   ]
  },
  {
   "cell_type": "markdown",
   "metadata": {},
   "source": [
    "<details>\n",
    "<summary>Explicación detallada del gráfico con distribución de la cantidad de hijos menores</summary>\n",
    "<p>\n",
    "El gráfico de líneas que hemos creado muestra la distribución del número de usuarios registrados por mes. Observamos que la cantidad de usuarios más común en todos los meses es aquellos que no tienen hijos menores (representado por el valor 0 en el eje y). Esto se evidencia por el punto más alto en el gráfico en el valor 0.\n",
    "\n",
    "Por otro lado, vemos que hay una cantidad significativa de usuarios que tienen 1, 2, 3, 4 o 5 hijos menores. Sin embargo, la diferencia en la cantidad de usuarios entre cada grupo no es muy grande. Esto nos indica que la cantidad de hijos menores que tienen los usuarios no parece tener un impacto significativo en el uso de la aplicación web.\n",
    "\n",
    "En otras palabras, independientemente de si un usuario tiene 0 hijos o varios hijos menores, todos parecen estar interesados en utilizar la aplicación web de manera similar. Esto sugiere que la cantidad de hijos no es un factor determinante para el uso de la aplicación y que otros aspectos podrían ser más influyentes en el comportamiento de los usuarios.\n",
    "\n",
    "En resumen, el gráfico nos muestra que la cantidad de hijos menores no es un factor relevante para los usuarios de la aplicación web, ya que la distribución de usuarios es similar en diferentes grupos de cantidad de hijos. Esto nos permite centrar nuestro análisis en otros aspectos que podrían tener un mayor impacto en el uso y comportamiento de los usuarios.\n",
    "</p>\n",
    "</details>"
   ]
  },
  {
   "cell_type": "code",
   "execution_count": 213,
   "metadata": {},
   "outputs": [
    {
     "data": {
      "image/png": "[encoded data removed]",
      "text/plain": [
       "<Figure size 640x480 with 1 Axes>"
      ]
     },
     "metadata": {},
     "output_type": "display_data"
    },
    {
     "name": "stdout",
     "output_type": "stream",
     "text": [
      "Gráfico guardado en: c:\\Users\\alexm\\OneDrive\\Escritorio\\DESAFIO\\notebooks\\..\\docs\\images\\hijos_menores_si_no.png\n"
     ]
    }
   ],
   "source": [
    "# Crear un histograma para la cantidad de hijos menores\n",
    "plt.hist(df['tiene_hijos'], bins=[0, 1, 2], edgecolor='black', align='left', rwidth=0.8)\n",
    "plt.xlabel('Tiene hijos menores')\n",
    "plt.ylabel('Frecuencia')\n",
    "plt.title('Distribución de la cantidad de usuarios con y sin hijos menores')\n",
    "plt.xticks([0, 1], ['Sin hijos', 'Con hijos'])\n",
    "\n",
    "# Ruta donde se guardará la imagen creada\n",
    "current_dir = os.getcwd()  # Ruta del directorio actual\n",
    "output_dir = os.path.join(current_dir, '..', 'docs', 'images')\n",
    "\n",
    "# Verificamos si el directorio de salida existe, si no, lo creamos\n",
    "if not os.path.exists(output_dir):\n",
    "    os.makedirs(output_dir)\n",
    "\n",
    "output_file = os.path.join(output_dir, 'hijos_menores_si_no.png')  # Ruta completa del archivo\n",
    "\n",
    "plt.savefig(output_file)  # Guardamos la imagen\n",
    "plt.show()\n",
    "\n",
    "print(f\"Gráfico guardado en: {output_file}\")\n",
    "\n",
    "plt.show()"
   ]
  },
  {
   "cell_type": "markdown",
   "metadata": {},
   "source": [
    "<details>\n",
    "<summary>Explicación detallada del gráfico con distribución de la cantidad de usuarios con y sin hijos menores</summary>\n",
    "<p>\n",
    "El gráfico que hemos creado muestra la distribución del número de usuarios registrados en nuestra aplicación web, divididos en dos grupos: aquellos usuarios que tienen hijos menores y aquellos que no tienen hijos menores.\n",
    "\n",
    "Observamos que la barra más alta en el gráfico representa la cantidad de usuarios que tienen hijos (representado por el valor 1 en el eje x). Esto indica que la mayoría de los usuarios registrados en nuestra aplicación web tienen hijos menores.\n",
    "\n",
    "Por otro lado, vemos que la barra más corta representa la cantidad de usuarios que no tienen hijos (representado por el valor 0 en el eje x). Esta cantidad es significativamente menor en comparación con aquellos usuarios que sí tienen hijos.\n",
    "\n",
    "En consecuencia, podemos concluir que la mayoría de los usuarios de nuestra aplicación web tienen hijos menores. Esto sugiere que nuestra aplicación web es de interés y relevante para padres y madres que tienen hijos menores, lo que puede indicar que nuestro servicio y contenido están dirigidos hacia ese segmento de usuarios.\n",
    "\n",
    "El hecho de que la cantidad de usuarios sin hijos sea menor no significa necesariamente que estos usuarios sean menos relevantes. Puede haber varios factores que influyen en esta diferencia, como la audiencia objetivo de nuestra aplicación web o el tipo de contenido y servicios que ofrecemos.\n",
    "\n",
    "En resumen, el gráfico nos muestra la proporción de usuarios que tienen hijos menores y aquellos que no tienen hijos. La mayoría de los usuarios pertenecen al grupo de usuarios con hijos menores, lo que indica la relevancia de nuestra aplicación web para este segmento específico. Sin embargo, es importante considerar y atender las necesidades de todos los usuarios, independientemente de si tienen hijos o no, para brindar un servicio completo y satisfactorio para todos.\n",
    "</p>\n",
    "</details>"
   ]
  },
  {
   "cell_type": "code",
   "execution_count": 214,
   "metadata": {},
   "outputs": [
    {
     "data": {
      "image/png": "[encoded data removed]",
      "text/plain": [
       "<Figure size 640x480 with 2 Axes>"
      ]
     },
     "metadata": {},
     "output_type": "display_data"
    }
   ],
   "source": [
    "# Matriz de correlación entre variables numéricas\n",
    "correlation_matrix = df[['n_hijos_menores', 'edad']].corr()\n",
    "\n",
    "sns.heatmap(correlation_matrix, annot=True, cmap='coolwarm', fmt='.2f')\n",
    "plt.title(\"Matriz de correlación\")\n",
    "plt.show()\n",
    "\n",
    "\n"
   ]
  },
  {
   "cell_type": "code",
   "execution_count": 215,
   "metadata": {},
   "outputs": [
    {
     "data": {
      "image/png": "[encoded data removed]",
      "text/plain": [
       "<Figure size 640x480 with 1 Axes>"
      ]
     },
     "metadata": {},
     "output_type": "display_data"
    },
    {
     "name": "stdout",
     "output_type": "stream",
     "text": [
      "Gráfico guardado en: c:\\Users\\alexm\\OneDrive\\Escritorio\\DESAFIO\\notebooks\\..\\docs\\images\\box_plot_cantidad_hijos_menores.png\n"
     ]
    }
   ],
   "source": [
    "# Relación entre la cantidad de hijos menores y la franja de edad\n",
    "sns.boxplot(x='franja_edad', y='n_hijos_menores', data=df)\n",
    "plt.title(\"Relación entre la cantidad de hijos menores y la franja de edad\")\n",
    "\n",
    "# Ruta donde se guardará la imagen creada\n",
    "current_dir = os.getcwd()  # Ruta del directorio actual\n",
    "output_dir = os.path.join(current_dir, '..','docs', 'images')\n",
    "\n",
    "# Verificamos si el directorio de salida existe, si no, lo creamos\n",
    "if not os.path.exists(output_dir):\n",
    "    os.makedirs(output_dir)\n",
    "\n",
    "output_file = os.path.join(output_dir, 'box_plot_cantidad_hijos_menores.png')  # Ruta completa del archivo\n",
    "\n",
    "plt.savefig(output_file)  # Guardamos la imagen\n",
    "plt.show()\n",
    "\n",
    "print(f\"Gráfico guardado en: {output_file}\")\n",
    "\n",
    "plt.show()"
   ]
  },
  {
   "cell_type": "markdown",
   "metadata": {},
   "source": [
    "<details>\n",
    "<summary>Explicación detallada del gráfico de relación entre la cantidad de hijos y la franja de edad</summary>\n",
    "<p>\n",
    "La gráfica de box plot que hemos creado muestra la distribución de la cantidad de hijos menores en función de las diferentes franjas de edad de los usuarios registrados en nuestra aplicación web.\n",
    "\n",
    "En el eje x, tenemos las etiquetas que representan las franjas de edad de los usuarios, como \"17-24\", \"25-44\", \"45-64\" y \"65+\". Estas etiquetas nos permiten identificar y comparar las diferentes franjas de edad.\n",
    "\n",
    "En el eje y, se encuentra la escala que representa el número de hijos menores que tienen los usuarios en cada una de las franjas de edad. La línea horizontal en el medio de cada caja representa la mediana de la distribución, es decir, el valor que se encuentra en el punto medio entre el valor más bajo y el más alto.\n",
    "\n",
    "La caja del box plot representa el rango intercuartílico, es decir, el intervalo entre el primer y tercer cuartil de la distribución de los datos. Esto nos da una idea de la dispersión y la variabilidad de la cantidad de hijos menores en cada franja de edad.\n",
    "\n",
    "Las líneas verticales que se extienden desde las cajas, conocidas como \"bigotes\", representan el rango de los datos, excluyendo los valores atípicos o extremos. Cualquier valor que se encuentre fuera de estos bigotes se considera un valor atípico y se muestra como un punto en la gráfica.\n",
    "\n",
    "Con esta gráfica, podemos visualizar la distribución y dispersión de la cantidad de hijos menores en cada franja de edad. Podemos observar cómo varía la cantidad de hijos menores en diferentes grupos de edad y si existen valores atípicos que puedan influir en nuestra interpretación de los datos.\n",
    "\n",
    "En resumen, el box plot nos proporciona una visión clara y concisa de la distribución de la cantidad de hijos menores en función de las franjas de edad de los usuarios, lo que nos permite identificar patrones y tendencias en nuestros datos. Esto puede ser útil para tomar decisiones informadas y diseñar estrategias dirigidas a segmentos específicos de usuarios según su edad y número de hijos menores.\n",
    "</p>\n",
    "</details>"
   ]
  },
  {
   "cell_type": "markdown",
   "metadata": {},
   "source": [
    "### VISUALIZACIONES DE LA VARIABLE \"cp\""
   ]
  },
  {
   "cell_type": "code",
   "execution_count": 216,
   "metadata": {},
   "outputs": [
    {
     "data": {
      "text/html": [
       "<div>\n",
       "<style scoped>\n",
       "    .dataframe tbody tr th:only-of-type {\n",
       "        vertical-align: middle;\n",
       "    }\n",
       "\n",
       "    .dataframe tbody tr th {\n",
       "        vertical-align: top;\n",
       "    }\n",
       "\n",
       "    .dataframe thead th {\n",
       "        text-align: right;\n",
       "    }\n",
       "</style>\n",
       "<table border=\"1\" class=\"dataframe\">\n",
       "  <thead>\n",
       "    <tr style=\"text-align: right;\">\n",
       "      <th></th>\n",
       "      <th>fecha_registro</th>\n",
       "      <th>user_id</th>\n",
       "      <th>sexo</th>\n",
       "      <th>cp</th>\n",
       "      <th>n_hijos_menores</th>\n",
       "      <th>edad</th>\n",
       "      <th>mes_registro</th>\n",
       "      <th>franja_edad</th>\n",
       "      <th>valor_franja_edad</th>\n",
       "      <th>tiene_hijos</th>\n",
       "    </tr>\n",
       "  </thead>\n",
       "  <tbody>\n",
       "    <tr>\n",
       "      <th>0</th>\n",
       "      <td>2023-04-24</td>\n",
       "      <td>655346</td>\n",
       "      <td>0</td>\n",
       "      <td>28023</td>\n",
       "      <td>5</td>\n",
       "      <td>69</td>\n",
       "      <td>4</td>\n",
       "      <td>65+</td>\n",
       "      <td>3</td>\n",
       "      <td>1</td>\n",
       "    </tr>\n",
       "    <tr>\n",
       "      <th>1</th>\n",
       "      <td>2023-06-02</td>\n",
       "      <td>279526</td>\n",
       "      <td>1</td>\n",
       "      <td>28037</td>\n",
       "      <td>2</td>\n",
       "      <td>89</td>\n",
       "      <td>6</td>\n",
       "      <td>65+</td>\n",
       "      <td>3</td>\n",
       "      <td>1</td>\n",
       "    </tr>\n",
       "    <tr>\n",
       "      <th>2</th>\n",
       "      <td>2023-03-20</td>\n",
       "      <td>797457</td>\n",
       "      <td>1</td>\n",
       "      <td>28035</td>\n",
       "      <td>2</td>\n",
       "      <td>77</td>\n",
       "      <td>3</td>\n",
       "      <td>65+</td>\n",
       "      <td>3</td>\n",
       "      <td>1</td>\n",
       "    </tr>\n",
       "    <tr>\n",
       "      <th>3</th>\n",
       "      <td>2023-02-03</td>\n",
       "      <td>803906</td>\n",
       "      <td>1</td>\n",
       "      <td>28026</td>\n",
       "      <td>2</td>\n",
       "      <td>87</td>\n",
       "      <td>2</td>\n",
       "      <td>65+</td>\n",
       "      <td>3</td>\n",
       "      <td>1</td>\n",
       "    </tr>\n",
       "    <tr>\n",
       "      <th>4</th>\n",
       "      <td>2023-01-25</td>\n",
       "      <td>314182</td>\n",
       "      <td>1</td>\n",
       "      <td>28024</td>\n",
       "      <td>0</td>\n",
       "      <td>62</td>\n",
       "      <td>1</td>\n",
       "      <td>45-64</td>\n",
       "      <td>2</td>\n",
       "      <td>0</td>\n",
       "    </tr>\n",
       "    <tr>\n",
       "      <th>...</th>\n",
       "      <td>...</td>\n",
       "      <td>...</td>\n",
       "      <td>...</td>\n",
       "      <td>...</td>\n",
       "      <td>...</td>\n",
       "      <td>...</td>\n",
       "      <td>...</td>\n",
       "      <td>...</td>\n",
       "      <td>...</td>\n",
       "      <td>...</td>\n",
       "    </tr>\n",
       "    <tr>\n",
       "      <th>495</th>\n",
       "      <td>2023-03-01</td>\n",
       "      <td>204336</td>\n",
       "      <td>1</td>\n",
       "      <td>28083</td>\n",
       "      <td>4</td>\n",
       "      <td>21</td>\n",
       "      <td>3</td>\n",
       "      <td>17-24</td>\n",
       "      <td>0</td>\n",
       "      <td>1</td>\n",
       "    </tr>\n",
       "    <tr>\n",
       "      <th>496</th>\n",
       "      <td>2023-02-26</td>\n",
       "      <td>802317</td>\n",
       "      <td>0</td>\n",
       "      <td>28054</td>\n",
       "      <td>1</td>\n",
       "      <td>93</td>\n",
       "      <td>2</td>\n",
       "      <td>65+</td>\n",
       "      <td>3</td>\n",
       "      <td>1</td>\n",
       "    </tr>\n",
       "    <tr>\n",
       "      <th>497</th>\n",
       "      <td>2023-02-02</td>\n",
       "      <td>549513</td>\n",
       "      <td>0</td>\n",
       "      <td>28053</td>\n",
       "      <td>2</td>\n",
       "      <td>99</td>\n",
       "      <td>2</td>\n",
       "      <td>65+</td>\n",
       "      <td>3</td>\n",
       "      <td>1</td>\n",
       "    </tr>\n",
       "    <tr>\n",
       "      <th>498</th>\n",
       "      <td>2023-02-04</td>\n",
       "      <td>292753</td>\n",
       "      <td>0</td>\n",
       "      <td>28026</td>\n",
       "      <td>4</td>\n",
       "      <td>81</td>\n",
       "      <td>2</td>\n",
       "      <td>65+</td>\n",
       "      <td>3</td>\n",
       "      <td>1</td>\n",
       "    </tr>\n",
       "    <tr>\n",
       "      <th>499</th>\n",
       "      <td>2023-03-12</td>\n",
       "      <td>103476</td>\n",
       "      <td>0</td>\n",
       "      <td>28071</td>\n",
       "      <td>5</td>\n",
       "      <td>28</td>\n",
       "      <td>3</td>\n",
       "      <td>25-44</td>\n",
       "      <td>1</td>\n",
       "      <td>1</td>\n",
       "    </tr>\n",
       "  </tbody>\n",
       "</table>\n",
       "<p>500 rows × 10 columns</p>\n",
       "</div>"
      ],
      "text/plain": [
       "    fecha_registro  user_id  sexo     cp  n_hijos_menores  edad  mes_registro   \n",
       "0       2023-04-24   655346     0  28023                5    69             4  \\\n",
       "1       2023-06-02   279526     1  28037                2    89             6   \n",
       "2       2023-03-20   797457     1  28035                2    77             3   \n",
       "3       2023-02-03   803906     1  28026                2    87             2   \n",
       "4       2023-01-25   314182     1  28024                0    62             1   \n",
       "..             ...      ...   ...    ...              ...   ...           ...   \n",
       "495     2023-03-01   204336     1  28083                4    21             3   \n",
       "496     2023-02-26   802317     0  28054                1    93             2   \n",
       "497     2023-02-02   549513     0  28053                2    99             2   \n",
       "498     2023-02-04   292753     0  28026                4    81             2   \n",
       "499     2023-03-12   103476     0  28071                5    28             3   \n",
       "\n",
       "    franja_edad valor_franja_edad  tiene_hijos  \n",
       "0           65+                 3            1  \n",
       "1           65+                 3            1  \n",
       "2           65+                 3            1  \n",
       "3           65+                 3            1  \n",
       "4         45-64                 2            0  \n",
       "..          ...               ...          ...  \n",
       "495       17-24                 0            1  \n",
       "496         65+                 3            1  \n",
       "497         65+                 3            1  \n",
       "498         65+                 3            1  \n",
       "499       25-44                 1            1  \n",
       "\n",
       "[500 rows x 10 columns]"
      ]
     },
     "execution_count": 216,
     "metadata": {},
     "output_type": "execute_result"
    }
   ],
   "source": [
    "df"
   ]
  },
  {
   "cell_type": "code",
   "execution_count": 217,
   "metadata": {},
   "outputs": [
    {
     "data": {
      "text/plain": [
       "fecha_registro       datetime64[ns]\n",
       "user_id                       int64\n",
       "sexo                          int32\n",
       "cp                            int64\n",
       "n_hijos_menores               int64\n",
       "edad                          int32\n",
       "mes_registro                  int32\n",
       "franja_edad                category\n",
       "valor_franja_edad          category\n",
       "tiene_hijos                   int32\n",
       "dtype: object"
      ]
     },
     "execution_count": 217,
     "metadata": {},
     "output_type": "execute_result"
    }
   ],
   "source": [
    "df.dtypes"
   ]
  },
  {
   "cell_type": "code",
   "execution_count": 218,
   "metadata": {},
   "outputs": [
    {
     "data": {
      "image/png": "[encoded data removed]",
      "text/plain": [
       "<Figure size 1000x600 with 1 Axes>"
      ]
     },
     "metadata": {},
     "output_type": "display_data"
    }
   ],
   "source": [
    "# Visualización de la columna 'cp' con un histograma\n",
    "plt.figure(figsize=(10, 6))\n",
    "plt.hist(df['cp'], bins=20, color='skyblue')\n",
    "plt.xlabel('Código Postal (CP)')\n",
    "plt.ylabel('Frecuencia')\n",
    "plt.title('Distribución de Códigos Postales')\n",
    "plt.grid(True)\n",
    "plt.show()"
   ]
  },
  {
   "cell_type": "code",
   "execution_count": 220,
   "metadata": {},
   "outputs": [
    {
     "data": {
      "image/png": "[encoded data removed]",
      "text/plain": [
       "<Figure size 1000x600 with 1 Axes>"
      ]
     },
     "metadata": {},
     "output_type": "display_data"
    }
   ],
   "source": [
    "# Visualización de la columna 'cp' con un gráfico de barras horizontales\n",
    "plt.figure(figsize=(10, 6))\n",
    "cp_counts = df['cp'].value_counts().sort_values(ascending=False)\n",
    "top_n = 15  # Mostrar los 15 códigos postales más frecuentes\n",
    "cp_counts = cp_counts.head(top_n)\n",
    "\n",
    "cp_labels = cp_counts.index.astype(str)\n",
    "plt.barh(cp_labels, cp_counts, color='skyblue')\n",
    "plt.xlabel('Frecuencia')\n",
    "plt.ylabel('Código Postal (CP)')\n",
    "plt.title(f'Distribución de los {top_n} Códigos Postales Más Frecuentes')\n",
    "plt.grid(True)\n",
    "plt.tight_layout()  # Ajustar el diseño para que no se superpongan los elementos\n",
    "plt.show()"
   ]
  },
  {
   "cell_type": "code",
   "execution_count": 223,
   "metadata": {},
   "outputs": [],
   "source": [
    "# Clasificación de los códigos postales\n",
    "\n",
    "dentro_m30 = [28005, 28012, 28014, 28013, 28004, 28001, 28009, 28006, 28028, 28010, 28015, 28003, 28008, 28040,\n",
    "               28035, 28029, 28039, 28020, 28036, 28016, 28002, 28045, 28007, 28053, 28046]\n",
    "\n",
    "sur = [ 28011, 28038, 28031, 28032, 28052, 28051, 28018, 28021, 28041, 28914, 28026, 28024, 28047, 28019, 28025, 28044,\n",
    "       28054, 28917, 28041, 28925]\n",
    "\n",
    "norte =[28037, 28017,28023, 28034,28050, 28033, 28108,28055, 28048,28049, 28760,28027, 28043, 28042, 28022]\n"
   ]
  },
  {
   "cell_type": "code",
   "execution_count": 224,
   "metadata": {},
   "outputs": [],
   "source": [
    "# Función para asignar el número a cada variable\n",
    "def asignar_numero(cp):\n",
    "    if cp in dentro_m30:\n",
    "        return 0\n",
    "    elif cp in sur:\n",
    "        return 1\n",
    "    else:\n",
    "        return 2\n",
    "\n"
   ]
  },
  {
   "cell_type": "code",
   "execution_count": 225,
   "metadata": {},
   "outputs": [],
   "source": [
    "# Creamos la nueva columna 'zona' utilizando la función personalizada\n",
    "df['zona'] = df['cp'].apply(asignar_numero)"
   ]
  },
  {
   "cell_type": "code",
   "execution_count": 226,
   "metadata": {},
   "outputs": [
    {
     "data": {
      "text/html": [
       "<div>\n",
       "<style scoped>\n",
       "    .dataframe tbody tr th:only-of-type {\n",
       "        vertical-align: middle;\n",
       "    }\n",
       "\n",
       "    .dataframe tbody tr th {\n",
       "        vertical-align: top;\n",
       "    }\n",
       "\n",
       "    .dataframe thead th {\n",
       "        text-align: right;\n",
       "    }\n",
       "</style>\n",
       "<table border=\"1\" class=\"dataframe\">\n",
       "  <thead>\n",
       "    <tr style=\"text-align: right;\">\n",
       "      <th></th>\n",
       "      <th>fecha_registro</th>\n",
       "      <th>user_id</th>\n",
       "      <th>sexo</th>\n",
       "      <th>cp</th>\n",
       "      <th>n_hijos_menores</th>\n",
       "      <th>edad</th>\n",
       "      <th>mes_registro</th>\n",
       "      <th>franja_edad</th>\n",
       "      <th>valor_franja_edad</th>\n",
       "      <th>tiene_hijos</th>\n",
       "      <th>cp_encoded</th>\n",
       "      <th>zona</th>\n",
       "    </tr>\n",
       "  </thead>\n",
       "  <tbody>\n",
       "    <tr>\n",
       "      <th>0</th>\n",
       "      <td>2023-04-24</td>\n",
       "      <td>655346</td>\n",
       "      <td>0</td>\n",
       "      <td>28023</td>\n",
       "      <td>5</td>\n",
       "      <td>69</td>\n",
       "      <td>4</td>\n",
       "      <td>65+</td>\n",
       "      <td>3</td>\n",
       "      <td>1</td>\n",
       "      <td>22</td>\n",
       "      <td>2</td>\n",
       "    </tr>\n",
       "    <tr>\n",
       "      <th>1</th>\n",
       "      <td>2023-06-02</td>\n",
       "      <td>279526</td>\n",
       "      <td>1</td>\n",
       "      <td>28037</td>\n",
       "      <td>2</td>\n",
       "      <td>89</td>\n",
       "      <td>6</td>\n",
       "      <td>65+</td>\n",
       "      <td>3</td>\n",
       "      <td>1</td>\n",
       "      <td>36</td>\n",
       "      <td>2</td>\n",
       "    </tr>\n",
       "    <tr>\n",
       "      <th>2</th>\n",
       "      <td>2023-03-20</td>\n",
       "      <td>797457</td>\n",
       "      <td>1</td>\n",
       "      <td>28035</td>\n",
       "      <td>2</td>\n",
       "      <td>77</td>\n",
       "      <td>3</td>\n",
       "      <td>65+</td>\n",
       "      <td>3</td>\n",
       "      <td>1</td>\n",
       "      <td>34</td>\n",
       "      <td>0</td>\n",
       "    </tr>\n",
       "    <tr>\n",
       "      <th>3</th>\n",
       "      <td>2023-02-03</td>\n",
       "      <td>803906</td>\n",
       "      <td>1</td>\n",
       "      <td>28026</td>\n",
       "      <td>2</td>\n",
       "      <td>87</td>\n",
       "      <td>2</td>\n",
       "      <td>65+</td>\n",
       "      <td>3</td>\n",
       "      <td>1</td>\n",
       "      <td>25</td>\n",
       "      <td>1</td>\n",
       "    </tr>\n",
       "    <tr>\n",
       "      <th>4</th>\n",
       "      <td>2023-01-25</td>\n",
       "      <td>314182</td>\n",
       "      <td>1</td>\n",
       "      <td>28024</td>\n",
       "      <td>0</td>\n",
       "      <td>62</td>\n",
       "      <td>1</td>\n",
       "      <td>45-64</td>\n",
       "      <td>2</td>\n",
       "      <td>0</td>\n",
       "      <td>23</td>\n",
       "      <td>1</td>\n",
       "    </tr>\n",
       "    <tr>\n",
       "      <th>...</th>\n",
       "      <td>...</td>\n",
       "      <td>...</td>\n",
       "      <td>...</td>\n",
       "      <td>...</td>\n",
       "      <td>...</td>\n",
       "      <td>...</td>\n",
       "      <td>...</td>\n",
       "      <td>...</td>\n",
       "      <td>...</td>\n",
       "      <td>...</td>\n",
       "      <td>...</td>\n",
       "      <td>...</td>\n",
       "    </tr>\n",
       "    <tr>\n",
       "      <th>495</th>\n",
       "      <td>2023-03-01</td>\n",
       "      <td>204336</td>\n",
       "      <td>1</td>\n",
       "      <td>28083</td>\n",
       "      <td>4</td>\n",
       "      <td>21</td>\n",
       "      <td>3</td>\n",
       "      <td>17-24</td>\n",
       "      <td>0</td>\n",
       "      <td>1</td>\n",
       "      <td>59</td>\n",
       "      <td>2</td>\n",
       "    </tr>\n",
       "    <tr>\n",
       "      <th>496</th>\n",
       "      <td>2023-02-26</td>\n",
       "      <td>802317</td>\n",
       "      <td>0</td>\n",
       "      <td>28054</td>\n",
       "      <td>1</td>\n",
       "      <td>93</td>\n",
       "      <td>2</td>\n",
       "      <td>65+</td>\n",
       "      <td>3</td>\n",
       "      <td>1</td>\n",
       "      <td>53</td>\n",
       "      <td>1</td>\n",
       "    </tr>\n",
       "    <tr>\n",
       "      <th>497</th>\n",
       "      <td>2023-02-02</td>\n",
       "      <td>549513</td>\n",
       "      <td>0</td>\n",
       "      <td>28053</td>\n",
       "      <td>2</td>\n",
       "      <td>99</td>\n",
       "      <td>2</td>\n",
       "      <td>65+</td>\n",
       "      <td>3</td>\n",
       "      <td>1</td>\n",
       "      <td>52</td>\n",
       "      <td>0</td>\n",
       "    </tr>\n",
       "    <tr>\n",
       "      <th>498</th>\n",
       "      <td>2023-02-04</td>\n",
       "      <td>292753</td>\n",
       "      <td>0</td>\n",
       "      <td>28026</td>\n",
       "      <td>4</td>\n",
       "      <td>81</td>\n",
       "      <td>2</td>\n",
       "      <td>65+</td>\n",
       "      <td>3</td>\n",
       "      <td>1</td>\n",
       "      <td>25</td>\n",
       "      <td>1</td>\n",
       "    </tr>\n",
       "    <tr>\n",
       "      <th>499</th>\n",
       "      <td>2023-03-12</td>\n",
       "      <td>103476</td>\n",
       "      <td>0</td>\n",
       "      <td>28071</td>\n",
       "      <td>5</td>\n",
       "      <td>28</td>\n",
       "      <td>3</td>\n",
       "      <td>25-44</td>\n",
       "      <td>1</td>\n",
       "      <td>1</td>\n",
       "      <td>56</td>\n",
       "      <td>2</td>\n",
       "    </tr>\n",
       "  </tbody>\n",
       "</table>\n",
       "<p>500 rows × 12 columns</p>\n",
       "</div>"
      ],
      "text/plain": [
       "    fecha_registro  user_id  sexo     cp  n_hijos_menores  edad  mes_registro   \n",
       "0       2023-04-24   655346     0  28023                5    69             4  \\\n",
       "1       2023-06-02   279526     1  28037                2    89             6   \n",
       "2       2023-03-20   797457     1  28035                2    77             3   \n",
       "3       2023-02-03   803906     1  28026                2    87             2   \n",
       "4       2023-01-25   314182     1  28024                0    62             1   \n",
       "..             ...      ...   ...    ...              ...   ...           ...   \n",
       "495     2023-03-01   204336     1  28083                4    21             3   \n",
       "496     2023-02-26   802317     0  28054                1    93             2   \n",
       "497     2023-02-02   549513     0  28053                2    99             2   \n",
       "498     2023-02-04   292753     0  28026                4    81             2   \n",
       "499     2023-03-12   103476     0  28071                5    28             3   \n",
       "\n",
       "    franja_edad valor_franja_edad  tiene_hijos  cp_encoded  zona  \n",
       "0           65+                 3            1          22     2  \n",
       "1           65+                 3            1          36     2  \n",
       "2           65+                 3            1          34     0  \n",
       "3           65+                 3            1          25     1  \n",
       "4         45-64                 2            0          23     1  \n",
       "..          ...               ...          ...         ...   ...  \n",
       "495       17-24                 0            1          59     2  \n",
       "496         65+                 3            1          53     1  \n",
       "497         65+                 3            1          52     0  \n",
       "498         65+                 3            1          25     1  \n",
       "499       25-44                 1            1          56     2  \n",
       "\n",
       "[500 rows x 12 columns]"
      ]
     },
     "execution_count": 226,
     "metadata": {},
     "output_type": "execute_result"
    }
   ],
   "source": [
    "df"
   ]
  },
  {
   "cell_type": "code",
   "execution_count": 229,
   "metadata": {},
   "outputs": [
    {
     "data": {
      "image/png": "[encoded data removed]",
      "text/plain": [
       "<Figure size 800x600 with 1 Axes>"
      ]
     },
     "metadata": {},
     "output_type": "display_data"
    }
   ],
   "source": [
    "# Contar la cantidad de códigos postales en cada zona\n",
    "zonas_counts = df['zona'].value_counts().sort_index()\n",
    "\n",
    "# Etiquetas de las zonas\n",
    "etiquetas_zonas = ['Dentro M-30: 0', 'Sur: 1', 'Norte: 2']\n",
    "\n",
    "# Visualización de la distribución de los códigos postales por zona con un gráfico de barras\n",
    "plt.figure(figsize=(8, 6))\n",
    "plt.bar(etiquetas_zonas, zonas_counts, color='skyblue')\n",
    "plt.xlabel('Zona')\n",
    "plt.ylabel('Cantidad de Códigos Postales')\n",
    "plt.title('Distribución de Códigos Postales por Zona')\n",
    "plt.grid(True)\n",
    "plt.show()"
   ]
  },
  {
   "cell_type": "code",
   "execution_count": 230,
   "metadata": {},
   "outputs": [
    {
     "data": {
      "image/png": "[encoded data removed]",
      "text/plain": [
       "<Figure size 600x600 with 1 Axes>"
      ]
     },
     "metadata": {},
     "output_type": "display_data"
    }
   ],
   "source": [
    "plt.figure(figsize=(6, 6))\n",
    "plt.pie(zonas_counts, labels=etiquetas_zonas, colors=['skyblue', 'lightgreen', 'lightcoral'], autopct='%.1f%%')\n",
    "plt.title('Distribución de Códigos Postales por Zona')\n",
    "plt.axis('equal')  # Para asegurar que el gráfico sea un círculo en lugar de una elipse\n",
    "plt.show()\n"
   ]
  },
  {
   "cell_type": "markdown",
   "metadata": {},
   "source": []
  },
  {
   "cell_type": "markdown",
   "metadata": {},
   "source": [
    "### CONCLUSIONES\n",
    "\n",
    "SOLO FALTA COMPLETAR LAS CONCLUSIONES\n"
   ]
  }
 ],
 "metadata": {
  "kernelspec": {
   "display_name": "Python 3",
   "language": "python",
   "name": "python3"
  },
  "language_info": {
   "codemirror_mode": {
    "name": "ipython",
    "version": 3
   },
   "file_extension": ".py",
   "mimetype": "text/x-python",
   "name": "python",
   "nbconvert_exporter": "python",
   "pygments_lexer": "ipython3",
   "version": "3.10.11"
  },
  "orig_nbformat": 4
 },
 "nbformat": 4,
 "nbformat_minor": 2
}
